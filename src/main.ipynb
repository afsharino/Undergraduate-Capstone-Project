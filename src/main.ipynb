{
 "cells": [
  {
   "cell_type": "markdown",
   "id": "05395c15-3048-44b3-bba7-71894f0ebbd8",
   "metadata": {},
   "source": [
    "# Import Libraries"
   ]
  },
  {
   "cell_type": "code",
   "execution_count": 1,
   "id": "b1f04305-8555-4690-9a37-0d042db28ab3",
   "metadata": {},
   "outputs": [],
   "source": [
    "# Data manipulation and scientific computing\n",
    "import pandas as pd\n",
    "import numpy as np\n",
    "import scipy\n",
    "\n",
    "# Data Visualization\n",
    "import matplotlib.pyplot as plt\n",
    "import seaborn as sns\n",
    "\n",
    "# Other modules for preprocessing\n",
    "from utils import read_data\n",
    "from utils import convert_data_to_dataframe\n",
    "from utils import check_date_integrity\n",
    "from utils import check_shape_integrity\n",
    "from utils import check_period_integrity\n",
    "from utils import drop_indicator\n",
    "from utils import align_dataframes\n",
    "from utils import combine_dfs\n",
    "from utils import fearandgreed_integrity_check"
   ]
  },
  {
   "cell_type": "markdown",
   "id": "23f5ef90",
   "metadata": {},
   "source": [
    "# Read Dataset"
   ]
  },
  {
   "cell_type": "code",
   "execution_count": 2,
   "id": "a1d2a54a",
   "metadata": {},
   "outputs": [
    {
     "name": "stdout",
     "output_type": "stream",
     "text": [
      "\n",
      "\n",
      "\n",
      "Enter ____ miner-flows ____ Directory\n",
      "Start Reading miner-outflow-mean...\n",
      "miner-outflow-mean loaded succesfully :)\n",
      "\n",
      "Start Reading miner-inflow-total...\n",
      "miner-inflow-total loaded succesfully :)\n",
      "\n",
      "Start Reading miner-inflow-mean-ma7...\n",
      "miner-inflow-mean-ma7 loaded succesfully :)\n",
      "\n",
      "Start Reading miner-depositing-transactions...\n",
      "miner-depositing-transactions loaded succesfully :)\n",
      "\n",
      "Start Reading miner-reserve-usd...\n",
      "miner-reserve-usd loaded succesfully :)\n",
      "\n",
      "Start Reading miner-outflow-total...\n",
      "miner-outflow-total loaded succesfully :)\n",
      "\n",
      "Start Reading miner-depositing-addresses...\n",
      "miner-depositing-addresses loaded succesfully :)\n",
      "\n",
      "Start Reading miner-inflow-top10...\n",
      "miner-inflow-top10 loaded succesfully :)\n",
      "\n",
      "Start Reading miner-outflow-top10...\n",
      "miner-outflow-top10 loaded succesfully :)\n",
      "\n",
      "Start Reading miner-withdrawing-addresses...\n",
      "miner-withdrawing-addresses loaded succesfully :)\n",
      "\n",
      "Start Reading miner-in-house-transactions...\n",
      "miner-in-house-transactions loaded succesfully :)\n",
      "\n",
      "Start Reading miner-reserve...\n",
      "miner-reserve loaded succesfully :)\n",
      "\n",
      "Start Reading miner-in-house-flow-total...\n",
      "miner-in-house-flow-total loaded succesfully :)\n",
      "\n",
      "Start Reading miner-in-house-flow-mean...\n",
      "miner-in-house-flow-mean loaded succesfully :)\n",
      "\n",
      "Start Reading miner-outflow-mean-ma7...\n",
      "miner-outflow-mean-ma7 loaded succesfully :)\n",
      "\n",
      "Start Reading miner-inflow-mean...\n",
      "miner-inflow-mean loaded succesfully :)\n",
      "\n",
      "Start Reading miner-netflow-total...\n",
      "miner-netflow-total loaded succesfully :)\n",
      "\n",
      "Start Reading miner-withdrawing-transactions...\n",
      "miner-withdrawing-transactions loaded succesfully :)\n",
      "\n",
      "\n",
      "\n",
      "\n",
      "Enter ____ market-data ____ Directory\n",
      "Start Reading market-cap...\n",
      "market-cap loaded succesfully :)\n",
      "\n",
      "Start Reading coinbase-premium-index...\n",
      "coinbase-premium-index loaded succesfully :)\n",
      "\n",
      "Start Reading average-cap...\n",
      "average-cap loaded succesfully :)\n",
      "\n",
      "Start Reading delta-cap...\n",
      "delta-cap loaded succesfully :)\n",
      "\n",
      "Start Reading thermo-cap...\n",
      "thermo-cap loaded succesfully :)\n",
      "\n",
      "Start Reading coinbase-premium-gap...\n",
      "coinbase-premium-gap loaded succesfully :)\n",
      "\n",
      "Start Reading korea-premium-index...\n",
      "korea-premium-index loaded succesfully :)\n",
      "\n",
      "Start Reading realized-cap...\n",
      "realized-cap loaded succesfully :)\n",
      "\n",
      "\n",
      "\n",
      "\n",
      "Enter ____ network-stats ____ Directory\n",
      "Start Reading difficulty...\n",
      "difficulty loaded succesfully :)\n",
      "\n",
      "Start Reading utxo-count...\n",
      "utxo-count loaded succesfully :)\n",
      "\n",
      "Start Reading hashrate...\n",
      "hashrate loaded succesfully :)\n",
      "\n",
      "Start Reading block-interval-mean...\n",
      "block-interval-mean loaded succesfully :)\n",
      "\n",
      "Start Reading blocks-mined...\n",
      "blocks-mined loaded succesfully :)\n",
      "\n",
      "Start Reading block-size-mean...\n",
      "block-size-mean loaded succesfully :)\n",
      "\n",
      "\n",
      "\n",
      "\n",
      "Enter ____ supply ____ Directory\n",
      "Start Reading velocity...\n",
      "velocity loaded succesfully :)\n",
      "\n",
      "Start Reading new-supply...\n",
      "new-supply loaded succesfully :)\n",
      "\n",
      "Start Reading total-supply...\n",
      "total-supply loaded succesfully :)\n",
      "\n",
      "\n",
      "\n",
      "\n",
      "Enter ____ bank-flows ____ Directory\n",
      "Start Reading bank-outflow-mean...\n",
      "bank-outflow-mean loaded succesfully :)\n",
      "\n",
      "Start Reading bank-inflow-mean-ma7...\n",
      "bank-inflow-mean-ma7 loaded succesfully :)\n",
      "\n",
      "Start Reading bank-depositing-addresses...\n",
      "bank-depositing-addresses loaded succesfully :)\n",
      "\n",
      "Start Reading bank-outflow-top10...\n",
      "bank-outflow-top10 loaded succesfully :)\n",
      "\n",
      "Start Reading bank-depositing-transactions...\n",
      "bank-depositing-transactions loaded succesfully :)\n",
      "\n",
      "Start Reading bank-reserve...\n",
      "bank-reserve loaded succesfully :)\n",
      "\n",
      "Start Reading bank-withdrawing-transactions...\n",
      "bank-withdrawing-transactions loaded succesfully :)\n",
      "\n",
      "Start Reading bank-reserve-usd...\n",
      "bank-reserve-usd loaded succesfully :)\n",
      "\n",
      "Start Reading bank-outflow-mean-ma7...\n",
      "bank-outflow-mean-ma7 loaded succesfully :)\n",
      "\n",
      "Start Reading bank-netflow-total...\n",
      "bank-netflow-total loaded succesfully :)\n",
      "\n",
      "Start Reading bank-inflow-total...\n",
      "bank-inflow-total loaded succesfully :)\n",
      "\n",
      "Start Reading bank-outflow-total...\n",
      "bank-outflow-total loaded succesfully :)\n",
      "\n",
      "Start Reading bank-inflow-mean...\n",
      "bank-inflow-mean loaded succesfully :)\n",
      "\n",
      "Start Reading bank-inflow-top10...\n",
      "bank-inflow-top10 loaded succesfully :)\n",
      "\n",
      "Start Reading bank-withdrawing-addresses...\n",
      "bank-withdrawing-addresses loaded succesfully :)\n",
      "\n",
      "\n",
      "\n",
      "\n",
      "Enter ____ market-indicator ____ Directory\n",
      "Start Reading stablecoin-supply-ratio-ssr...\n",
      "stablecoin-supply-ratio-ssr loaded succesfully :)\n",
      "\n",
      "Start Reading realized-price...\n",
      "realized-price loaded succesfully :)\n",
      "\n",
      "Start Reading short-term-holder-sopr...\n",
      "short-term-holder-sopr loaded succesfully :)\n",
      "\n",
      "Start Reading long-term-holder-sopr...\n",
      "long-term-holder-sopr loaded succesfully :)\n",
      "\n",
      "Start Reading sopr-ratio-lth-sopr-sth-sopr...\n",
      "sopr-ratio-lth-sopr-sth-sopr loaded succesfully :)\n",
      "\n",
      "Start Reading spent-output-profit-ratio-sopr...\n",
      "spent-output-profit-ratio-sopr loaded succesfully :)\n",
      "\n",
      "Start Reading estimated-leverage-ratio...\n",
      "estimated-leverage-ratio loaded succesfully :)\n",
      "\n",
      "Start Reading mvrv-ratio...\n",
      "mvrv-ratio loaded succesfully :)\n",
      "\n",
      "Start Reading adjusted-sopr-asopr...\n",
      "adjusted-sopr-asopr loaded succesfully :)\n",
      "\n",
      "\n",
      "\n",
      "\n",
      "Enter ____ exchange-flows ____ Directory\n",
      "Start Reading exchange-inflow-mean...\n",
      "exchange-inflow-mean loaded succesfully :)\n",
      "\n",
      "Start Reading exchange-in-house-transactions...\n",
      "exchange-in-house-transactions loaded succesfully :)\n",
      "\n",
      "Start Reading exchange-outflow-mean...\n",
      "exchange-outflow-mean loaded succesfully :)\n",
      "\n",
      "Start Reading exchange-in-house-flow-mean...\n",
      "exchange-in-house-flow-mean loaded succesfully :)\n",
      "\n",
      "Start Reading exchange-depositing-transactions...\n",
      "exchange-depositing-transactions loaded succesfully :)\n",
      "\n",
      "Start Reading exchange-reserve-usd...\n",
      "exchange-reserve-usd loaded succesfully :)\n",
      "\n",
      "Start Reading exchange-reserve...\n",
      "exchange-reserve loaded succesfully :)\n",
      "\n",
      "Start Reading exchange-inflow-total...\n",
      "exchange-inflow-total loaded succesfully :)\n",
      "\n",
      "Start Reading exchange-inflow-mean-ma7...\n",
      "exchange-inflow-mean-ma7 loaded succesfully :)\n",
      "\n",
      "Start Reading exchange-withdrawing-transactions...\n",
      "exchange-withdrawing-transactions loaded succesfully :)\n",
      "\n",
      "Start Reading exchange-netflow-total...\n",
      "exchange-netflow-total loaded succesfully :)\n",
      "\n",
      "Start Reading exchange-outflow-mean-ma7...\n",
      "exchange-outflow-mean-ma7 loaded succesfully :)\n",
      "\n",
      "Start Reading exchange-depositing-addresses...\n",
      "exchange-depositing-addresses loaded succesfully :)\n",
      "\n",
      "Start Reading exchange-in-house-flow-total...\n",
      "exchange-in-house-flow-total loaded succesfully :)\n",
      "\n",
      "Start Reading exchange-outflow-total...\n",
      "exchange-outflow-total loaded succesfully :)\n",
      "\n",
      "Start Reading exchange-outflow-top10...\n",
      "exchange-outflow-top10 loaded succesfully :)\n",
      "\n",
      "Start Reading price...\n",
      "price loaded succesfully :)\n",
      "\n",
      "Start Reading exchange-withdrawing-addresses...\n",
      "exchange-withdrawing-addresses loaded succesfully :)\n",
      "\n",
      "Start Reading exchange-inflow-top10...\n",
      "exchange-inflow-top10 loaded succesfully :)\n",
      "\n",
      "\n",
      "\n",
      "\n",
      "Enter ____ network-indicator ____ Directory\n",
      "Start Reading mean-coin-age...\n",
      "mean-coin-age loaded succesfully :)\n",
      "\n",
      "Start Reading supply-in-loss-percent...\n",
      "supply-in-loss-percent loaded succesfully :)\n",
      "\n",
      "Start Reading nvt-golden-cross...\n",
      "nvt-golden-cross loaded succesfully :)\n",
      "\n",
      "Start Reading supply-adjusted-cdd...\n",
      "supply-adjusted-cdd loaded succesfully :)\n",
      "\n",
      "Start Reading utxos-in-loss-percent...\n",
      "utxos-in-loss-percent loaded succesfully :)\n",
      "\n",
      "Start Reading nvm-ratio...\n",
      "nvm-ratio loaded succesfully :)\n",
      "\n",
      "Start Reading net-realized-profit-and-loss...\n",
      "net-realized-profit-and-loss loaded succesfully :)\n",
      "\n",
      "Start Reading supply-in-profit...\n",
      "supply-in-profit loaded succesfully :)\n",
      "\n",
      "Start Reading stock-to-flow-ratio...\n",
      "stock-to-flow-ratio loaded succesfully :)\n",
      "\n",
      "Start Reading coin-days-destroyed-cdd...\n",
      "coin-days-destroyed-cdd loaded succesfully :)\n",
      "\n",
      "Start Reading nvt-ratio...\n",
      "nvt-ratio loaded succesfully :)\n",
      "\n",
      "Start Reading net-unrealized-loss-nul...\n",
      "net-unrealized-loss-nul loaded succesfully :)\n",
      "\n",
      "Start Reading utxos-in-profit...\n",
      "utxos-in-profit loaded succesfully :)\n",
      "\n",
      "Start Reading supply-adjusted-dormancy...\n",
      "supply-adjusted-dormancy loaded succesfully :)\n",
      "\n",
      "Start Reading utxos-in-profit-percent...\n",
      "utxos-in-profit-percent loaded succesfully :)\n",
      "\n",
      "Start Reading sum-coin-age...\n",
      "sum-coin-age loaded succesfully :)\n",
      "\n",
      "Start Reading stock-to-flow-reversion...\n",
      "stock-to-flow-reversion loaded succesfully :)\n",
      "\n",
      "Start Reading puell-multiple...\n",
      "puell-multiple loaded succesfully :)\n",
      "\n",
      "Start Reading utxos-in-loss...\n",
      "utxos-in-loss loaded succesfully :)\n",
      "\n",
      "Start Reading binary-cdd...\n",
      "binary-cdd loaded succesfully :)\n",
      "\n",
      "Start Reading sum-coin-dollar-age...\n",
      "sum-coin-dollar-age loaded succesfully :)\n",
      "\n",
      "Start Reading mean-coin-dollar-age...\n",
      "mean-coin-dollar-age loaded succesfully :)\n",
      "\n",
      "Start Reading average-dormancy...\n",
      "average-dormancy loaded succesfully :)\n",
      "\n",
      "Start Reading net-unrealized-profit-nup...\n",
      "net-unrealized-profit-nup loaded succesfully :)\n",
      "\n",
      "Start Reading supply-in-profit-percent...\n",
      "supply-in-profit-percent loaded succesfully :)\n",
      "\n",
      "Start Reading supply-in-loss...\n",
      "supply-in-loss loaded succesfully :)\n",
      "\n",
      "Start Reading average-supply-adjusted-cdd...\n",
      "average-supply-adjusted-cdd loaded succesfully :)\n",
      "\n",
      "Start Reading net-unrealized-profit-loss-nupl...\n",
      "net-unrealized-profit-loss-nupl loaded succesfully :)\n",
      "\n",
      "\n",
      "\n",
      "\n",
      "Enter ____ research ____ Directory\n",
      "Start Reading fund-to-all-exchange-reserve-ratio...\n",
      "fund-to-all-exchange-reserve-ratio loaded succesfully :)\n",
      "\n",
      "Start Reading exchange-token-transferred-ratio-us-vs-off-shore...\n",
      "exchange-token-transferred-ratio-us-vs-off-shore loaded succesfully :)\n",
      "\n",
      "Start Reading fund-to-kycd-exchange-reserve-ratio...\n",
      "fund-to-kycd-exchange-reserve-ratio loaded succesfully :)\n",
      "\n",
      "Start Reading trading-volume-ratio-spot-vs-derivative...\n",
      "trading-volume-ratio-spot-vs-derivative loaded succesfully :)\n",
      "\n",
      "Start Reading exchange-reserve-ratio-us-vs-off-shore...\n",
      "exchange-reserve-ratio-us-vs-off-shore loaded succesfully :)\n",
      "\n",
      "Start Reading miner-selling-power-log-scaled...\n",
      "miner-selling-power-log-scaled loaded succesfully :)\n",
      "\n",
      "Start Reading exchange-reserve-ratio-kyc-vs-non-kyc...\n",
      "exchange-reserve-ratio-kyc-vs-non-kyc loaded succesfully :)\n",
      "\n",
      "Start Reading exchange-token-transferred-ratio-kyc-vs-non-kyc...\n",
      "exchange-token-transferred-ratio-kyc-vs-non-kyc loaded succesfully :)\n",
      "\n",
      "Start Reading us-to-the-rest-reserve-ratio...\n",
      "us-to-the-rest-reserve-ratio loaded succesfully :)\n",
      "\n",
      "Start Reading fund-to-non-kycd-exchange-reserve-ratio...\n",
      "fund-to-non-kycd-exchange-reserve-ratio loaded succesfully :)\n",
      "\n",
      "Start Reading trading-volume-ratio-kyc-vs-non-kyc...\n",
      "trading-volume-ratio-kyc-vs-non-kyc loaded succesfully :)\n",
      "\n",
      "\n",
      "\n",
      "\n",
      "Enter ____ addresses ____ Directory\n",
      "Start Reading active-addresses...\n",
      "active-addresses loaded succesfully :)\n",
      "\n",
      "Start Reading active-receiving-addresses...\n",
      "active-receiving-addresses loaded succesfully :)\n",
      "\n",
      "Start Reading active-sending-addresses...\n",
      "active-sending-addresses loaded succesfully :)\n",
      "\n",
      "\n",
      "\n",
      "\n",
      "Enter ____ inter-entity-flows ____ Directory\n",
      "Start Reading exchange-to-bank-flow-total...\n",
      "exchange-to-bank-flow-total loaded succesfully :)\n",
      "\n",
      "Start Reading bank-to-exchange-flow-total...\n",
      "bank-to-exchange-flow-total loaded succesfully :)\n",
      "\n",
      "Start Reading bank-to-exchange-transactions...\n",
      "bank-to-exchange-transactions loaded succesfully :)\n",
      "\n",
      "Start Reading exchange-to-bank-flow-mean...\n",
      "exchange-to-bank-flow-mean loaded succesfully :)\n",
      "\n",
      "Start Reading bank-to-miner-flow-total...\n",
      "bank-to-miner-flow-total loaded succesfully :)\n",
      "\n",
      "Start Reading exchange-to-exchange-transactions...\n",
      "exchange-to-exchange-transactions loaded succesfully :)\n",
      "\n",
      "Start Reading exchange-to-bank-transactions...\n",
      "exchange-to-bank-transactions loaded succesfully :)\n",
      "\n",
      "Start Reading bank-to-miner-transactions...\n",
      "bank-to-miner-transactions loaded succesfully :)\n",
      "\n",
      "Start Reading exchange-to-miner-flow-mean...\n",
      "exchange-to-miner-flow-mean loaded succesfully :)\n",
      "\n",
      "Start Reading exchange-to-miner-flow-total...\n",
      "exchange-to-miner-flow-total loaded succesfully :)\n",
      "\n",
      "Start Reading miner-to-exchange-transactions...\n",
      "miner-to-exchange-transactions loaded succesfully :)\n",
      "\n",
      "Start Reading miner-to-bank-transactions...\n",
      "miner-to-bank-transactions loaded succesfully :)\n",
      "\n",
      "Start Reading bank-to-exchange-flow-mean...\n",
      "bank-to-exchange-flow-mean loaded succesfully :)\n",
      "\n",
      "Start Reading miner-to-bank-flow-total...\n",
      "miner-to-bank-flow-total loaded succesfully :)\n",
      "\n",
      "Start Reading miner-to-exchange-flow-total...\n",
      "miner-to-exchange-flow-total loaded succesfully :)\n",
      "\n",
      "Start Reading exchange-to-exchange-flow-mean...\n",
      "exchange-to-exchange-flow-mean loaded succesfully :)\n",
      "\n",
      "Start Reading miner-to-bank-flow-mean...\n",
      "miner-to-bank-flow-mean loaded succesfully :)\n",
      "\n",
      "Start Reading exchange-to-exchange-flow-total...\n",
      "exchange-to-exchange-flow-total loaded succesfully :)\n",
      "\n",
      "Start Reading bank-to-miner-flow-mean...\n",
      "bank-to-miner-flow-mean loaded succesfully :)\n",
      "\n",
      "Start Reading exchange-to-miner-transactions...\n",
      "exchange-to-miner-transactions loaded succesfully :)\n",
      "\n",
      "Start Reading miner-to-exchange-flow-mean...\n",
      "miner-to-exchange-flow-mean loaded succesfully :)\n",
      "\n",
      "\n",
      "\n",
      "\n",
      "Enter ____ transactions ____ Directory\n",
      "Start Reading tokens-transferred-mean...\n",
      "tokens-transferred-mean loaded succesfully :)\n",
      "\n",
      "Start Reading transaction-count-total...\n",
      "transaction-count-total loaded succesfully :)\n",
      "\n",
      "Start Reading tokens-transferred-median...\n",
      "tokens-transferred-median loaded succesfully :)\n",
      "\n",
      "Start Reading tokens-transferred-total...\n",
      "tokens-transferred-total loaded succesfully :)\n",
      "\n",
      "Start Reading transaction-count-mean...\n",
      "transaction-count-mean loaded succesfully :)\n",
      "\n",
      "\n",
      "\n",
      "\n",
      "Enter ____ derivatives ____ Directory\n",
      "Start Reading long-liquidations-usd...\n",
      "long-liquidations-usd loaded succesfully :)\n",
      "\n",
      "Start Reading long-liquidations...\n",
      "long-liquidations loaded succesfully :)\n",
      "\n",
      "Start Reading funding-rates...\n",
      "funding-rates loaded succesfully :)\n",
      "\n",
      "Start Reading short-liquidations-usd...\n",
      "short-liquidations-usd loaded succesfully :)\n",
      "\n",
      "Start Reading taker-buy-ratio...\n",
      "taker-buy-ratio loaded succesfully :)\n",
      "\n",
      "Start Reading taker-sell-volume...\n",
      "taker-sell-volume loaded succesfully :)\n",
      "\n",
      "Start Reading open-interest...\n",
      "open-interest loaded succesfully :)\n",
      "\n",
      "Start Reading short-liquidations...\n",
      "short-liquidations loaded succesfully :)\n",
      "\n",
      "Start Reading taker-buy-volume...\n",
      "taker-buy-volume loaded succesfully :)\n",
      "\n",
      "Start Reading taker-sell-ratio...\n",
      "taker-sell-ratio loaded succesfully :)\n",
      "\n",
      "Start Reading taker-buy-sell-ratio...\n",
      "taker-buy-sell-ratio loaded succesfully :)\n",
      "\n",
      "\n",
      "\n",
      "\n",
      "Enter ____ fees-and-revenue ____ Directory\n",
      "Start Reading block-rewards-usd...\n",
      "block-rewards-usd loaded succesfully :)\n",
      "\n",
      "Start Reading fees-per-transaction-usd-median...\n",
      "fees-per-transaction-usd-median loaded succesfully :)\n",
      "\n",
      "Start Reading fees-usd-total...\n",
      "fees-usd-total loaded succesfully :)\n",
      "\n",
      "Start Reading fees-per-block-usd-mean...\n",
      "fees-per-block-usd-mean loaded succesfully :)\n",
      "\n",
      "Start Reading fees-to-reward-ratio...\n",
      "fees-to-reward-ratio loaded succesfully :)\n",
      "\n",
      "Start Reading fees-per-transaction-usd-mean...\n",
      "fees-per-transaction-usd-mean loaded succesfully :)\n",
      "\n",
      "Start Reading fees-per-transaction-mean...\n",
      "fees-per-transaction-mean loaded succesfully :)\n",
      "\n",
      "Start Reading block-rewards...\n",
      "block-rewards loaded succesfully :)\n",
      "\n",
      "Start Reading fees-per-transaction-median...\n",
      "fees-per-transaction-median loaded succesfully :)\n",
      "\n",
      "Start Reading fees-per-block-mean...\n",
      "fees-per-block-mean loaded succesfully :)\n",
      "\n",
      "Start Reading fees-total...\n",
      "fees-total loaded succesfully :)\n",
      "\n",
      "\n",
      "\n",
      "\n",
      "Enter ____ fund-data ____ Directory\n",
      "Start Reading fund-price-usd...\n",
      "fund-price-usd loaded succesfully :)\n",
      "\n",
      "Start Reading fund-market-premium...\n",
      "fund-market-premium loaded succesfully :)\n",
      "\n",
      "Start Reading fund-volume...\n",
      "fund-volume loaded succesfully :)\n",
      "\n",
      "Start Reading fund-holdings...\n",
      "fund-holdings loaded succesfully :)\n",
      "\n",
      "\n",
      "\n",
      "\n",
      "Enter ____ flow-indicator ____ Directory\n",
      "Start Reading miners-position-index-mpi...\n",
      "miners-position-index-mpi loaded succesfully :)\n",
      "\n",
      "Start Reading exchange-supply-ratio...\n",
      "exchange-supply-ratio loaded succesfully :)\n",
      "\n",
      "Start Reading bank-supply-ratio...\n",
      "bank-supply-ratio loaded succesfully :)\n",
      "\n",
      "Start Reading exchange-inflow-cdd...\n",
      "exchange-inflow-cdd loaded succesfully :)\n",
      "\n",
      "Start Reading exchange-whale-ratio...\n",
      "exchange-whale-ratio loaded succesfully :)\n",
      "\n",
      "Start Reading fund-flow-ratio...\n",
      "fund-flow-ratio loaded succesfully :)\n",
      "\n",
      "Start Reading miner-supply-ratio...\n",
      "miner-supply-ratio loaded succesfully :)\n",
      "\n",
      "Start Reading exchange-stablecoins-ratio-usd...\n",
      "exchange-stablecoins-ratio-usd loaded succesfully :)\n",
      "\n",
      "Start Reading exchange-stablecoins-ratio...\n",
      "exchange-stablecoins-ratio loaded succesfully :)\n",
      "\n"
     ]
    }
   ],
   "source": [
    "# Base directory where dataset is stored\n",
    "BASE_DIR = r'../datasets/'\n",
    "\n",
    "# Read datasets (indicators)\n",
    "data = read_data(BASE_DIR)"
   ]
  },
  {
   "cell_type": "code",
   "execution_count": 3,
   "id": "6c6d92bc",
   "metadata": {},
   "outputs": [],
   "source": [
    "# Convert indicator data from list to pandas dataframe\n",
    "all_dataframes = convert_data_to_dataframe(data)"
   ]
  },
  {
   "cell_type": "markdown",
   "id": "fb039be4",
   "metadata": {},
   "source": [
    "# Error Handling and Integrity Check"
   ]
  },
  {
   "cell_type": "markdown",
   "id": "16d7a08b",
   "metadata": {},
   "source": [
    "## Check for Datafram Date Integrity"
   ]
  },
  {
   "cell_type": "code",
   "execution_count": 4,
   "id": "db970a94",
   "metadata": {},
   "outputs": [
    {
     "name": "stdout",
     "output_type": "stream",
     "text": [
      "Not all DataFrames have the same Date values for 'exchange-flows' directory.\n",
      "\n",
      "Error: Can only compare identically-labeled Series objects for flow-indicator\n",
      "\n",
      "All DataFrames have the same Date values for 'market-indicator' directory.\n",
      "\n",
      "Not all DataFrames have the same Date values for 'network-indicator' directory.\n",
      "\n",
      "Error: Can only compare identically-labeled Series objects for miner-flows\n",
      "\n",
      "All DataFrames have the same Date values for 'derivatives' directory.\n",
      "\n",
      "Error: Can only compare identically-labeled Series objects for fund-data\n",
      "\n",
      "Error: Can only compare identically-labeled Series objects for market-data\n",
      "\n",
      "All DataFrames have the same Date values for 'addresses' directory.\n",
      "\n",
      "All DataFrames have the same Date values for 'fees-and-revenue' directory.\n",
      "\n",
      "All DataFrames have the same Date values for 'network-stats' directory.\n",
      "\n",
      "All DataFrames have the same Date values for 'supply' directory.\n",
      "\n",
      "All DataFrames have the same Date values for 'transactions' directory.\n",
      "\n",
      "Error: Can only compare identically-labeled Series objects for inter-entity-flows\n",
      "\n",
      "All DataFrames have the same Date values for 'bank-flows' directory.\n",
      "\n",
      "Error: Can only compare identically-labeled Series objects for research\n",
      "\n"
     ]
    }
   ],
   "source": [
    "check_date_integrity(all_dataframes['exchange-flows'], 'exchange-flows')\n",
    "check_date_integrity(all_dataframes['flow-indicator'], 'flow-indicator')\n",
    "check_date_integrity(all_dataframes['market-indicator'], 'market-indicator')\n",
    "check_date_integrity(all_dataframes['network-indicator'], 'network-indicator')\n",
    "check_date_integrity(all_dataframes['miner-flows'], 'miner-flows')\n",
    "check_date_integrity(all_dataframes['derivatives'], 'derivatives')\n",
    "check_date_integrity(all_dataframes['fund-data'], 'fund-data')\n",
    "check_date_integrity(all_dataframes['market-data'], 'market-data')\n",
    "check_date_integrity(all_dataframes['addresses'], 'addresses')\n",
    "check_date_integrity(all_dataframes['fees-and-revenue'], 'fees-and-revenue')\n",
    "check_date_integrity(all_dataframes['network-stats'], 'network-stats')\n",
    "check_date_integrity(all_dataframes['supply'], 'supply')\n",
    "check_date_integrity(all_dataframes['transactions'], 'transactions')\n",
    "check_date_integrity(all_dataframes['inter-entity-flows'], 'inter-entity-flows')\n",
    "check_date_integrity(all_dataframes['bank-flows'], 'bank-flows')\n",
    "check_date_integrity(all_dataframes['research'], 'research')"
   ]
  },
  {
   "cell_type": "markdown",
   "id": "27ca304d",
   "metadata": {},
   "source": [
    "## Check for Datafram Shape Integrity"
   ]
  },
  {
   "cell_type": "code",
   "execution_count": 5,
   "id": "5de45518",
   "metadata": {},
   "outputs": [
    {
     "name": "stdout",
     "output_type": "stream",
     "text": [
      "All DataFrames have the same shape values for 'exchange-flows' directory.\n",
      "The shape is 1097.\n",
      "\n",
      "Not all DataFrames have the same Date values for 'flow-indicator' directory.\n",
      "Refrence: miners-position-index-mpi:1096 - Current:exchange-stablecoins-ratio-usd:1000\n",
      "\n",
      "All DataFrames have the same shape values for 'market-indicator' directory.\n",
      "The shape is 1096.\n",
      "\n",
      "All DataFrames have the same shape values for 'network-indicator' directory.\n",
      "The shape is 1096.\n",
      "\n",
      "Not all DataFrames have the same Date values for 'miner-flows' directory.\n",
      "Refrence: miner-outflow-mean:1097 - Current:miner-depositing-addresses:1096\n",
      "\n",
      "All DataFrames have the same shape values for 'derivatives' directory.\n",
      "The shape is 1097.\n",
      "\n",
      "Not all DataFrames have the same Date values for 'fund-data' directory.\n",
      "Refrence: fund-price-usd:754 - Current:fund-market-premium:773\n",
      "\n",
      "Not all DataFrames have the same Date values for 'market-data' directory.\n",
      "Refrence: market-cap:1095 - Current:coinbase-premium-index:1096\n",
      "\n",
      "All DataFrames have the same shape values for 'addresses' directory.\n",
      "The shape is 1096.\n",
      "\n",
      "All DataFrames have the same shape values for 'fees-and-revenue' directory.\n",
      "The shape is 1096.\n",
      "\n",
      "All DataFrames have the same shape values for 'network-stats' directory.\n",
      "The shape is 1095.\n",
      "\n",
      "All DataFrames have the same shape values for 'supply' directory.\n",
      "The shape is 1095.\n",
      "\n",
      "All DataFrames have the same shape values for 'transactions' directory.\n",
      "The shape is 1095.\n",
      "\n",
      "Not all DataFrames have the same Date values for 'inter-entity-flows' directory.\n",
      "Refrence: exchange-to-bank-flow-total:1095 - Current:bank-to-exchange-flow-total:1096\n",
      "\n",
      "All DataFrames have the same shape values for 'bank-flows' directory.\n",
      "The shape is 1096.\n",
      "\n",
      "Not all DataFrames have the same Date values for 'research' directory.\n",
      "Refrence: fund-to-all-exchange-reserve-ratio:1096 - Current:exchange-token-transferred-ratio-us-vs-off-shore:1097\n",
      "\n"
     ]
    }
   ],
   "source": [
    "check_shape_integrity(all_dataframes['exchange-flows'], 'exchange-flows')\n",
    "check_shape_integrity(all_dataframes['flow-indicator'], 'flow-indicator')\n",
    "check_shape_integrity(all_dataframes['market-indicator'], 'market-indicator')\n",
    "check_shape_integrity(all_dataframes['network-indicator'], 'network-indicator')\n",
    "check_shape_integrity(all_dataframes['miner-flows'], 'miner-flows')\n",
    "check_shape_integrity(all_dataframes['derivatives'], 'derivatives')\n",
    "check_shape_integrity(all_dataframes['fund-data'], 'fund-data')\n",
    "check_shape_integrity(all_dataframes['market-data'], 'market-data')\n",
    "check_shape_integrity(all_dataframes['addresses'], 'addresses')\n",
    "check_shape_integrity(all_dataframes['fees-and-revenue'], 'fees-and-revenue')\n",
    "check_shape_integrity(all_dataframes['network-stats'], 'network-stats')\n",
    "check_shape_integrity(all_dataframes['supply'], 'supply')\n",
    "check_shape_integrity(all_dataframes['transactions'], 'transactions')\n",
    "check_shape_integrity(all_dataframes['inter-entity-flows'], 'inter-entity-flows')\n",
    "check_shape_integrity(all_dataframes['bank-flows'], 'bank-flows')\n",
    "check_shape_integrity(all_dataframes['research'], 'research')"
   ]
  },
  {
   "cell_type": "markdown",
   "id": "14d9ae65",
   "metadata": {},
   "source": [
    "## Check for Datafram Period"
   ]
  },
  {
   "cell_type": "markdown",
   "id": "df4cebe8",
   "metadata": {},
   "source": [
    "### exchange-flows"
   ]
  },
  {
   "cell_type": "code",
   "execution_count": 6,
   "id": "2d6d096d",
   "metadata": {},
   "outputs": [
    {
     "name": "stdout",
     "output_type": "stream",
     "text": [
      "Period Integrity for _______ exchange-flows _______\n",
      "\n",
      "('2021-03-11', '2024-03-11')\n",
      "('2021-03-11', '2024-03-11')\n",
      "('2021-03-11', '2024-03-11')\n",
      "('2021-03-11', '2024-03-11')\n",
      "('2021-03-11', '2024-03-11')\n",
      "('2021-03-11', '2024-03-11')\n",
      "('2021-03-11', '2024-03-11')\n",
      "('2021-03-11', '2024-03-11')\n",
      "('2021-03-11', '2024-03-11')\n",
      "('2021-03-11', '2024-03-11')\n",
      "('2021-03-11', '2024-03-11')\n",
      "('2021-03-11', '2024-03-11')\n",
      "('2021-03-11', '2024-03-11')\n",
      "('2021-03-11', '2024-03-11')\n",
      "('2021-03-11', '2024-03-11')\n",
      "('2021-03-11', '2024-03-11')\n",
      "('2021-03-12', '2024-03-12')\n",
      "('2021-03-11', '2024-03-11')\n",
      "('2021-03-11', '2024-03-11')\n"
     ]
    }
   ],
   "source": [
    "check_period_integrity(all_dataframes['exchange-flows'], 'exchange-flows')"
   ]
  },
  {
   "cell_type": "markdown",
   "id": "c64d4a83",
   "metadata": {},
   "source": [
    "MIN: 12\n",
    "MAX: 11"
   ]
  },
  {
   "cell_type": "markdown",
   "id": "90f0579a",
   "metadata": {},
   "source": [
    "### flow-indicator"
   ]
  },
  {
   "cell_type": "code",
   "execution_count": 7,
   "id": "f3ddc183",
   "metadata": {},
   "outputs": [
    {
     "name": "stdout",
     "output_type": "stream",
     "text": [
      "Period Integrity for _______ flow-indicator _______\n",
      "\n",
      "('2021-03-11', '2024-03-10')\n",
      "('2021-03-11', '2024-03-10')\n",
      "('2021-03-11', '2024-03-10')\n",
      "('2021-03-11', '2024-03-10')\n",
      "('2021-03-11', '2024-03-10')\n",
      "('2021-03-11', '2024-03-10')\n",
      "('2021-03-11', '2024-03-10')\n",
      "('2021-06-15', '2024-03-10')\n",
      "('2021-06-15', '2024-03-10')\n"
     ]
    }
   ],
   "source": [
    "check_period_integrity(all_dataframes['flow-indicator'], 'flow-indicator')"
   ]
  },
  {
   "cell_type": "markdown",
   "id": "c511ac9e",
   "metadata": {},
   "source": [
    "MIN: 11\n",
    "MAX: 10"
   ]
  },
  {
   "cell_type": "markdown",
   "id": "9ec326ad",
   "metadata": {},
   "source": [
    "ToDo: Delete last two indicators."
   ]
  },
  {
   "cell_type": "code",
   "execution_count": 8,
   "id": "f468cdd7",
   "metadata": {},
   "outputs": [],
   "source": [
    "all_dataframes['flow-indicator'] = drop_indicator(all_dataframes['flow-indicator'], based_on='start', month='06')"
   ]
  },
  {
   "cell_type": "code",
   "execution_count": 9,
   "id": "a18779a5",
   "metadata": {},
   "outputs": [
    {
     "name": "stdout",
     "output_type": "stream",
     "text": [
      "Period Integrity for _______ flow-indicator _______\n",
      "\n",
      "('2021-03-11', '2024-03-10')\n",
      "('2021-03-11', '2024-03-10')\n",
      "('2021-03-11', '2024-03-10')\n",
      "('2021-03-11', '2024-03-10')\n",
      "('2021-03-11', '2024-03-10')\n",
      "('2021-03-11', '2024-03-10')\n",
      "('2021-03-11', '2024-03-10')\n"
     ]
    }
   ],
   "source": [
    "check_period_integrity(all_dataframes['flow-indicator'], 'flow-indicator')"
   ]
  },
  {
   "cell_type": "markdown",
   "id": "93731f07",
   "metadata": {},
   "source": [
    "### market-indicator"
   ]
  },
  {
   "cell_type": "code",
   "execution_count": 10,
   "id": "d1053abd",
   "metadata": {},
   "outputs": [
    {
     "name": "stdout",
     "output_type": "stream",
     "text": [
      "Period Integrity for _______ market-indicator _______\n",
      "\n",
      "('2021-03-11', '2024-03-10')\n",
      "('2021-03-11', '2024-03-10')\n",
      "('2021-03-11', '2024-03-10')\n",
      "('2021-03-11', '2024-03-10')\n",
      "('2021-03-11', '2024-03-10')\n",
      "('2021-03-11', '2024-03-10')\n",
      "('2021-03-11', '2024-03-10')\n",
      "('2021-03-11', '2024-03-10')\n",
      "('2021-03-11', '2024-03-10')\n"
     ]
    }
   ],
   "source": [
    "check_period_integrity(all_dataframes['market-indicator'], 'market-indicator')"
   ]
  },
  {
   "cell_type": "markdown",
   "id": "041f98f1",
   "metadata": {},
   "source": [
    "MIN: 11\n",
    "MAX: 10"
   ]
  },
  {
   "cell_type": "markdown",
   "id": "0c8c2eba",
   "metadata": {},
   "source": [
    "### network-indicator"
   ]
  },
  {
   "cell_type": "code",
   "execution_count": 11,
   "id": "f723f371",
   "metadata": {},
   "outputs": [
    {
     "name": "stdout",
     "output_type": "stream",
     "text": [
      "Period Integrity for _______ network-indicator _______\n",
      "\n",
      "('2021-03-12', '2024-03-11')\n",
      "('2021-03-11', '2024-03-10')\n",
      "('2021-03-11', '2024-03-10')\n",
      "('2021-03-11', '2024-03-10')\n",
      "('2021-03-11', '2024-03-10')\n",
      "('2021-03-11', '2024-03-10')\n",
      "('2021-03-11', '2024-03-10')\n",
      "('2021-03-11', '2024-03-10')\n",
      "('2021-03-11', '2024-03-10')\n",
      "('2021-03-11', '2024-03-10')\n",
      "('2021-03-11', '2024-03-10')\n",
      "('2021-03-11', '2024-03-10')\n",
      "('2021-03-11', '2024-03-10')\n",
      "('2021-03-11', '2024-03-10')\n",
      "('2021-03-11', '2024-03-10')\n",
      "('2021-03-12', '2024-03-11')\n",
      "('2021-03-11', '2024-03-10')\n",
      "('2021-03-11', '2024-03-10')\n",
      "('2021-03-11', '2024-03-10')\n",
      "('2021-03-11', '2024-03-10')\n",
      "('2021-03-11', '2024-03-10')\n",
      "('2021-03-11', '2024-03-10')\n",
      "('2021-03-11', '2024-03-10')\n",
      "('2021-03-11', '2024-03-10')\n",
      "('2021-03-11', '2024-03-10')\n",
      "('2021-03-11', '2024-03-10')\n",
      "('2021-03-11', '2024-03-10')\n",
      "('2021-03-11', '2024-03-10')\n"
     ]
    }
   ],
   "source": [
    "check_period_integrity(all_dataframes['network-indicator'], 'network-indicator')"
   ]
  },
  {
   "cell_type": "markdown",
   "id": "ba235b78",
   "metadata": {},
   "source": [
    "MIN: 12\n",
    "MAX: 10"
   ]
  },
  {
   "cell_type": "markdown",
   "id": "9a21bb7e",
   "metadata": {},
   "source": [
    "### miner-flows"
   ]
  },
  {
   "cell_type": "code",
   "execution_count": 12,
   "id": "18cb0c9f",
   "metadata": {},
   "outputs": [
    {
     "name": "stdout",
     "output_type": "stream",
     "text": [
      "Period Integrity for _______ miner-flows _______\n",
      "\n",
      "('2021-03-11', '2024-03-11')\n",
      "('2021-03-11', '2024-03-11')\n",
      "('2021-03-11', '2024-03-11')\n",
      "('2021-03-11', '2024-03-11')\n",
      "('2021-03-11', '2024-03-11')\n",
      "('2021-03-11', '2024-03-11')\n",
      "('2021-03-12', '2024-03-11')\n",
      "('2021-03-11', '2024-03-11')\n",
      "('2021-03-11', '2024-03-11')\n",
      "('2021-03-11', '2024-03-11')\n",
      "('2021-03-12', '2024-03-11')\n",
      "('2021-03-11', '2024-03-11')\n",
      "('2021-03-12', '2024-03-11')\n",
      "('2021-03-12', '2024-03-11')\n",
      "('2021-03-11', '2024-03-11')\n",
      "('2021-03-11', '2024-03-11')\n",
      "('2021-03-11', '2024-03-11')\n",
      "('2021-03-11', '2024-03-11')\n"
     ]
    }
   ],
   "source": [
    "check_period_integrity(all_dataframes['miner-flows'], 'miner-flows')"
   ]
  },
  {
   "cell_type": "markdown",
   "id": "826a2656",
   "metadata": {},
   "source": [
    "MIN: 12\n",
    "MAX: 11"
   ]
  },
  {
   "cell_type": "markdown",
   "id": "69ef9504",
   "metadata": {},
   "source": [
    "### derivatives"
   ]
  },
  {
   "cell_type": "code",
   "execution_count": 13,
   "id": "9330f268",
   "metadata": {},
   "outputs": [
    {
     "name": "stdout",
     "output_type": "stream",
     "text": [
      "Period Integrity for _______ derivatives _______\n",
      "\n",
      "('2021-03-11', '2024-03-11')\n",
      "('2021-03-11', '2024-03-11')\n",
      "('2021-03-11', '2024-03-11')\n",
      "('2021-03-11', '2024-03-11')\n",
      "('2021-03-11', '2024-03-11')\n",
      "('2021-03-11', '2024-03-11')\n",
      "('2021-03-11', '2024-03-11')\n",
      "('2021-03-11', '2024-03-11')\n",
      "('2021-03-11', '2024-03-11')\n",
      "('2021-03-11', '2024-03-11')\n",
      "('2021-03-11', '2024-03-11')\n"
     ]
    }
   ],
   "source": [
    "check_period_integrity(all_dataframes['derivatives'], 'derivatives')"
   ]
  },
  {
   "cell_type": "markdown",
   "id": "1701da07",
   "metadata": {},
   "source": [
    "MIN: 11\n",
    "MAX: 11"
   ]
  },
  {
   "cell_type": "markdown",
   "id": "b7dd6cb7",
   "metadata": {},
   "source": [
    "### fund-data"
   ]
  },
  {
   "cell_type": "code",
   "execution_count": 14,
   "id": "c738e3b1",
   "metadata": {},
   "outputs": [
    {
     "name": "stdout",
     "output_type": "stream",
     "text": [
      "Period Integrity for _______ fund-data _______\n",
      "\n",
      "('2021-03-12', '2024-03-11')\n",
      "('2021-03-12', '2024-03-08')\n",
      "('2021-03-12', '2024-03-11')\n",
      "('2021-03-12', '2024-03-08')\n"
     ]
    }
   ],
   "source": [
    "check_period_integrity(all_dataframes['fund-data'], 'fund-data')"
   ]
  },
  {
   "cell_type": "markdown",
   "id": "7c16c97d",
   "metadata": {},
   "source": [
    "MIN: 12\n",
    "MAX: 08"
   ]
  },
  {
   "cell_type": "markdown",
   "id": "d4bbd019",
   "metadata": {},
   "source": [
    "### market-data"
   ]
  },
  {
   "cell_type": "code",
   "execution_count": 15,
   "id": "2c686920",
   "metadata": {},
   "outputs": [
    {
     "name": "stdout",
     "output_type": "stream",
     "text": [
      "Period Integrity for _______ market-data _______\n",
      "\n",
      "('2021-03-12', '2024-03-10')\n",
      "('2021-03-12', '2024-03-11')\n",
      "('2021-03-12', '2024-03-10')\n",
      "('2021-03-12', '2024-03-10')\n",
      "('2021-03-12', '2024-03-10')\n",
      "('2021-03-12', '2024-03-11')\n",
      "('2021-03-12', '2024-03-11')\n",
      "('2021-03-12', '2024-03-10')\n"
     ]
    }
   ],
   "source": [
    "check_period_integrity(all_dataframes['market-data'], 'market-data')"
   ]
  },
  {
   "cell_type": "markdown",
   "id": "3d6ce309",
   "metadata": {},
   "source": [
    "MIN: 12\n",
    "MAX: 10"
   ]
  },
  {
   "cell_type": "markdown",
   "id": "9c956c13",
   "metadata": {},
   "source": [
    "### addresses"
   ]
  },
  {
   "cell_type": "code",
   "execution_count": 16,
   "id": "b0162713",
   "metadata": {},
   "outputs": [
    {
     "name": "stdout",
     "output_type": "stream",
     "text": [
      "Period Integrity for _______ addresses _______\n",
      "\n",
      "('2021-03-11', '2024-03-10')\n",
      "('2021-03-11', '2024-03-10')\n",
      "('2021-03-11', '2024-03-10')\n"
     ]
    }
   ],
   "source": [
    "check_period_integrity(all_dataframes['addresses'], 'addresses')"
   ]
  },
  {
   "cell_type": "markdown",
   "id": "319a5d80",
   "metadata": {},
   "source": [
    "MIN: 11\n",
    "MAX: 10"
   ]
  },
  {
   "cell_type": "markdown",
   "id": "339c5319",
   "metadata": {},
   "source": [
    "### fees-and-revenue"
   ]
  },
  {
   "cell_type": "code",
   "execution_count": 17,
   "id": "37a44685",
   "metadata": {},
   "outputs": [
    {
     "name": "stdout",
     "output_type": "stream",
     "text": [
      "Period Integrity for _______ fees-and-revenue _______\n",
      "\n",
      "('2021-03-11', '2024-03-10')\n",
      "('2021-03-11', '2024-03-10')\n",
      "('2021-03-11', '2024-03-10')\n",
      "('2021-03-11', '2024-03-10')\n",
      "('2021-03-11', '2024-03-10')\n",
      "('2021-03-11', '2024-03-10')\n",
      "('2021-03-11', '2024-03-10')\n",
      "('2021-03-11', '2024-03-10')\n",
      "('2021-03-11', '2024-03-10')\n",
      "('2021-03-11', '2024-03-10')\n",
      "('2021-03-11', '2024-03-10')\n"
     ]
    }
   ],
   "source": [
    "check_period_integrity(all_dataframes['fees-and-revenue'], 'fees-and-revenue')"
   ]
  },
  {
   "cell_type": "markdown",
   "id": "07443854",
   "metadata": {},
   "source": [
    "MIN: 11\n",
    "MAX: 10"
   ]
  },
  {
   "cell_type": "markdown",
   "id": "cf5ee420",
   "metadata": {},
   "source": [
    "### network-stats"
   ]
  },
  {
   "cell_type": "code",
   "execution_count": 18,
   "id": "10e49a58",
   "metadata": {},
   "outputs": [
    {
     "name": "stdout",
     "output_type": "stream",
     "text": [
      "Period Integrity for _______ network-stats _______\n",
      "\n",
      "('2021-03-12', '2024-03-10')\n",
      "('2021-03-12', '2024-03-10')\n",
      "('2021-03-12', '2024-03-10')\n",
      "('2021-03-12', '2024-03-10')\n",
      "('2021-03-12', '2024-03-10')\n",
      "('2021-03-12', '2024-03-10')\n"
     ]
    }
   ],
   "source": [
    "check_period_integrity(all_dataframes['network-stats'], 'network-stats')"
   ]
  },
  {
   "cell_type": "markdown",
   "id": "a0926049",
   "metadata": {},
   "source": [
    "MIN: 12\n",
    "MAX: 10"
   ]
  },
  {
   "cell_type": "markdown",
   "id": "8788917b",
   "metadata": {},
   "source": [
    "### supply"
   ]
  },
  {
   "cell_type": "code",
   "execution_count": 19,
   "id": "6a4364cb",
   "metadata": {},
   "outputs": [
    {
     "name": "stdout",
     "output_type": "stream",
     "text": [
      "Period Integrity for _______ supply _______\n",
      "\n",
      "('2021-03-12', '2024-03-10')\n",
      "('2021-03-12', '2024-03-10')\n",
      "('2021-03-12', '2024-03-10')\n"
     ]
    }
   ],
   "source": [
    "check_period_integrity(all_dataframes['supply'], 'supply')"
   ]
  },
  {
   "cell_type": "markdown",
   "id": "82f652a7",
   "metadata": {},
   "source": [
    "MIN: 12\n",
    "MAX: 10"
   ]
  },
  {
   "cell_type": "markdown",
   "id": "84742ad2",
   "metadata": {},
   "source": [
    "### transactions"
   ]
  },
  {
   "cell_type": "code",
   "execution_count": 20,
   "id": "9eb01e6b",
   "metadata": {},
   "outputs": [
    {
     "name": "stdout",
     "output_type": "stream",
     "text": [
      "Period Integrity for _______ transactions _______\n",
      "\n",
      "('2021-03-12', '2024-03-10')\n",
      "('2021-03-12', '2024-03-10')\n",
      "('2021-03-12', '2024-03-10')\n",
      "('2021-03-12', '2024-03-10')\n",
      "('2021-03-12', '2024-03-10')\n"
     ]
    }
   ],
   "source": [
    "check_period_integrity(all_dataframes['transactions'], 'transactions')"
   ]
  },
  {
   "cell_type": "markdown",
   "id": "05571159",
   "metadata": {},
   "source": [
    "MIN: 12\n",
    "MAX: 10"
   ]
  },
  {
   "cell_type": "markdown",
   "id": "7646e079",
   "metadata": {},
   "source": [
    "### inter-entity-flows"
   ]
  },
  {
   "cell_type": "code",
   "execution_count": 21,
   "id": "cccd8a73",
   "metadata": {},
   "outputs": [
    {
     "name": "stdout",
     "output_type": "stream",
     "text": [
      "Period Integrity for _______ inter-entity-flows _______\n",
      "\n",
      "('2021-03-12', '2024-03-10')\n",
      "('2021-03-12', '2024-03-11')\n",
      "('2021-03-12', '2024-03-11')\n",
      "('2021-03-12', '2024-03-10')\n",
      "('2021-03-12', '2024-03-08')\n",
      "('2021-03-12', '2024-03-12')\n",
      "('2021-03-12', '2024-03-10')\n",
      "('2021-03-12', '2024-03-08')\n",
      "('2021-03-12', '2024-03-12')\n",
      "('2021-03-12', '2024-03-12')\n",
      "('2021-03-12', '2024-03-11')\n",
      "('2021-03-12', '2024-01-26')\n",
      "('2021-03-12', '2024-03-11')\n",
      "('2021-03-12', '2024-01-26')\n",
      "('2021-03-12', '2024-03-11')\n",
      "('2021-03-12', '2024-03-12')\n",
      "('2021-03-12', '2024-01-26')\n",
      "('2021-03-12', '2024-03-12')\n",
      "('2021-03-12', '2024-03-08')\n",
      "('2021-03-12', '2024-03-12')\n",
      "('2021-03-12', '2024-03-11')\n"
     ]
    }
   ],
   "source": [
    "check_period_integrity(all_dataframes['inter-entity-flows'], 'inter-entity-flows')"
   ]
  },
  {
   "cell_type": "markdown",
   "id": "a374a27e",
   "metadata": {},
   "source": [
    "MIN: 12\n",
    "MAX: 08"
   ]
  },
  {
   "cell_type": "markdown",
   "id": "a70902dd",
   "metadata": {},
   "source": [
    "ToDo: Delete 11, 13, 16"
   ]
  },
  {
   "cell_type": "code",
   "execution_count": 22,
   "id": "a99c0368",
   "metadata": {},
   "outputs": [],
   "source": [
    "all_dataframes['inter-entity-flows'] = drop_indicator(all_dataframes['inter-entity-flows'], based_on='end', month='01')"
   ]
  },
  {
   "cell_type": "code",
   "execution_count": 23,
   "id": "e4709552",
   "metadata": {},
   "outputs": [
    {
     "name": "stdout",
     "output_type": "stream",
     "text": [
      "Period Integrity for _______ inter-entity-flows _______\n",
      "\n",
      "('2021-03-12', '2024-03-10')\n",
      "('2021-03-12', '2024-03-11')\n",
      "('2021-03-12', '2024-03-11')\n",
      "('2021-03-12', '2024-03-10')\n",
      "('2021-03-12', '2024-03-08')\n",
      "('2021-03-12', '2024-03-12')\n",
      "('2021-03-12', '2024-03-10')\n",
      "('2021-03-12', '2024-03-08')\n",
      "('2021-03-12', '2024-03-12')\n",
      "('2021-03-12', '2024-03-12')\n",
      "('2021-03-12', '2024-03-11')\n",
      "('2021-03-12', '2024-03-11')\n",
      "('2021-03-12', '2024-03-11')\n",
      "('2021-03-12', '2024-03-12')\n",
      "('2021-03-12', '2024-03-12')\n",
      "('2021-03-12', '2024-03-08')\n",
      "('2021-03-12', '2024-03-12')\n",
      "('2021-03-12', '2024-03-11')\n"
     ]
    }
   ],
   "source": [
    "check_period_integrity(all_dataframes['inter-entity-flows'], 'inter-entity-flows')"
   ]
  },
  {
   "cell_type": "markdown",
   "id": "79fab34e",
   "metadata": {},
   "source": [
    "### bank-flows"
   ]
  },
  {
   "cell_type": "code",
   "execution_count": 24,
   "id": "662c7427",
   "metadata": {},
   "outputs": [
    {
     "name": "stdout",
     "output_type": "stream",
     "text": [
      "Period Integrity for _______ bank-flows _______\n",
      "\n",
      "('2021-03-12', '2024-03-11')\n",
      "('2021-03-12', '2024-03-11')\n",
      "('2021-03-12', '2024-03-11')\n",
      "('2021-03-12', '2024-03-11')\n",
      "('2021-03-12', '2024-03-11')\n",
      "('2021-03-12', '2024-03-11')\n",
      "('2021-03-12', '2024-03-11')\n",
      "('2021-03-12', '2024-03-11')\n",
      "('2021-03-12', '2024-03-11')\n",
      "('2021-03-12', '2024-03-11')\n",
      "('2021-03-12', '2024-03-11')\n",
      "('2021-03-12', '2024-03-11')\n",
      "('2021-03-12', '2024-03-11')\n",
      "('2021-03-12', '2024-03-11')\n",
      "('2021-03-12', '2024-03-11')\n"
     ]
    }
   ],
   "source": [
    "check_period_integrity(all_dataframes['bank-flows'], 'bank-flows')"
   ]
  },
  {
   "cell_type": "markdown",
   "id": "9207a1bf",
   "metadata": {},
   "source": [
    "MIN: 12\n",
    "MAX: 11"
   ]
  },
  {
   "cell_type": "markdown",
   "id": "753ffa3a",
   "metadata": {},
   "source": [
    "### research"
   ]
  },
  {
   "cell_type": "code",
   "execution_count": 25,
   "id": "b3b79bc0",
   "metadata": {},
   "outputs": [
    {
     "name": "stdout",
     "output_type": "stream",
     "text": [
      "Period Integrity for _______ research _______\n",
      "\n",
      "('2021-03-12', '2024-03-11')\n",
      "('2021-03-11', '2024-03-11')\n",
      "('2021-03-12', '2024-03-11')\n",
      "('2021-03-18', '2024-03-11')\n",
      "('2021-03-12', '2024-03-11')\n",
      "('2021-03-11', '2024-03-11')\n",
      "('2021-03-12', '2024-03-11')\n",
      "('2021-03-11', '2024-03-11')\n",
      "('2021-03-12', '2024-03-11')\n",
      "('2021-03-12', '2024-03-11')\n",
      "('2021-03-18', '2024-03-11')\n"
     ]
    }
   ],
   "source": [
    "check_period_integrity(all_dataframes['research'], 'research')"
   ]
  },
  {
   "cell_type": "markdown",
   "id": "5f81412b",
   "metadata": {},
   "source": [
    "MIN: 18\n",
    "MAX: 11"
   ]
  },
  {
   "cell_type": "markdown",
   "id": "c9956efd",
   "metadata": {},
   "source": [
    "ToDo: Delete 3 and -1"
   ]
  },
  {
   "cell_type": "code",
   "execution_count": 26,
   "id": "2f8d3806",
   "metadata": {},
   "outputs": [],
   "source": [
    "all_dataframes['research'] = drop_indicator(all_dataframes['research'], based_on='start', day='18')"
   ]
  },
  {
   "cell_type": "code",
   "execution_count": 27,
   "id": "26b1f910",
   "metadata": {},
   "outputs": [
    {
     "name": "stdout",
     "output_type": "stream",
     "text": [
      "Period Integrity for _______ research _______\n",
      "\n",
      "('2021-03-12', '2024-03-11')\n",
      "('2021-03-11', '2024-03-11')\n",
      "('2021-03-12', '2024-03-11')\n",
      "('2021-03-12', '2024-03-11')\n",
      "('2021-03-11', '2024-03-11')\n",
      "('2021-03-12', '2024-03-11')\n",
      "('2021-03-11', '2024-03-11')\n",
      "('2021-03-12', '2024-03-11')\n",
      "('2021-03-12', '2024-03-11')\n"
     ]
    }
   ],
   "source": [
    "check_period_integrity(all_dataframes['research'], 'research')"
   ]
  },
  {
   "cell_type": "markdown",
   "id": "b3763f22",
   "metadata": {},
   "source": [
    "Indeed the aligned period is '2021-03-12', '2024-03-08'."
   ]
  },
  {
   "cell_type": "markdown",
   "id": "9cd47f4e",
   "metadata": {},
   "source": [
    "# Align DataFrames"
   ]
  },
  {
   "cell_type": "code",
   "execution_count": 28,
   "id": "c45b31d6",
   "metadata": {},
   "outputs": [
    {
     "name": "stdout",
     "output_type": "stream",
     "text": [
      "exchange-flows DataFrames aligned succeessfully :)\n",
      "flow-indicator DataFrames aligned succeessfully :)\n"
     ]
    },
    {
     "name": "stdout",
     "output_type": "stream",
     "text": [
      "market-indicator DataFrames aligned succeessfully :)\n",
      "network-indicator DataFrames aligned succeessfully :)\n",
      "miner-flows DataFrames aligned succeessfully :)\n",
      "derivatives DataFrames aligned succeessfully :)\n",
      "fund-data DataFrames aligned succeessfully :)\n",
      "market-data DataFrames aligned succeessfully :)\n",
      "addresses DataFrames aligned succeessfully :)\n",
      "fees-and-revenue DataFrames aligned succeessfully :)\n",
      "network-stats DataFrames aligned succeessfully :)\n",
      "supply DataFrames aligned succeessfully :)\n",
      "transactions DataFrames aligned succeessfully :)\n",
      "inter-entity-flows DataFrames aligned succeessfully :)\n",
      "bank-flows DataFrames aligned succeessfully :)\n",
      "research DataFrames aligned succeessfully :)\n"
     ]
    }
   ],
   "source": [
    "all_dataframes['exchange-flows'] = align_dataframes(all_dataframes['exchange-flows'], 'exchange-flows').copy()\n",
    "all_dataframes['flow-indicator'] = align_dataframes(all_dataframes['flow-indicator'], 'flow-indicator').copy()\n",
    "all_dataframes['market-indicator'] = align_dataframes(all_dataframes['market-indicator'], 'market-indicator').copy()\n",
    "all_dataframes['network-indicator'] = align_dataframes(all_dataframes['network-indicator'], 'network-indicator').copy()\n",
    "all_dataframes['miner-flows'] = align_dataframes(all_dataframes['miner-flows'], 'miner-flows').copy()\n",
    "all_dataframes['derivatives'] = align_dataframes(all_dataframes['derivatives'], 'derivatives').copy()\n",
    "all_dataframes['fund-data'] = align_dataframes(all_dataframes['fund-data'], 'fund-data').copy()\n",
    "all_dataframes['market-data'] = align_dataframes(all_dataframes['market-data'], 'market-data').copy()\n",
    "all_dataframes['addresses'] = align_dataframes(all_dataframes['addresses'], 'addresses').copy()\n",
    "all_dataframes['fees-and-revenue'] = align_dataframes(all_dataframes['fees-and-revenue'], 'fees-and-revenue').copy()\n",
    "all_dataframes['network-stats'] = align_dataframes(all_dataframes['network-stats'], 'network-stats').copy()\n",
    "all_dataframes['supply'] = align_dataframes(all_dataframes['supply'], 'supply').copy()\n",
    "all_dataframes['transactions'] = align_dataframes(all_dataframes['transactions'], 'transactions').copy()\n",
    "all_dataframes['inter-entity-flows'] = align_dataframes(all_dataframes['inter-entity-flows'], 'inter-entity-flows').copy()\n",
    "all_dataframes['bank-flows'] = align_dataframes(all_dataframes['bank-flows'], 'bank-flows').copy()\n",
    "all_dataframes['research'] = align_dataframes(all_dataframes['research'], 'research').copy()"
   ]
  },
  {
   "cell_type": "markdown",
   "id": "f01935f5",
   "metadata": {},
   "source": [
    "# Recheck for Alignment"
   ]
  },
  {
   "cell_type": "code",
   "execution_count": 29,
   "id": "ea6d5586",
   "metadata": {},
   "outputs": [
    {
     "name": "stdout",
     "output_type": "stream",
     "text": [
      "All DataFrames have the same Date values for 'exchange-flows' directory.\n",
      "\n",
      "All DataFrames have the same Date values for 'flow-indicator' directory.\n",
      "\n",
      "All DataFrames have the same Date values for 'market-indicator' directory.\n",
      "\n",
      "All DataFrames have the same Date values for 'network-indicator' directory.\n",
      "\n",
      "All DataFrames have the same Date values for 'miner-flows' directory.\n",
      "\n",
      "All DataFrames have the same Date values for 'derivatives' directory.\n",
      "\n",
      "Error: Can only compare identically-labeled Series objects for fund-data\n",
      "\n",
      "All DataFrames have the same Date values for 'market-data' directory.\n",
      "\n",
      "All DataFrames have the same Date values for 'addresses' directory.\n",
      "\n",
      "All DataFrames have the same Date values for 'fees-and-revenue' directory.\n",
      "\n",
      "All DataFrames have the same Date values for 'network-stats' directory.\n",
      "\n",
      "All DataFrames have the same Date values for 'supply' directory.\n",
      "\n",
      "All DataFrames have the same Date values for 'transactions' directory.\n",
      "\n",
      "All DataFrames have the same Date values for 'inter-entity-flows' directory.\n",
      "\n",
      "All DataFrames have the same Date values for 'bank-flows' directory.\n",
      "\n",
      "All DataFrames have the same Date values for 'research' directory.\n",
      "\n"
     ]
    }
   ],
   "source": [
    "check_date_integrity(all_dataframes['exchange-flows'], 'exchange-flows')\n",
    "check_date_integrity(all_dataframes['flow-indicator'], 'flow-indicator')\n",
    "check_date_integrity(all_dataframes['market-indicator'], 'market-indicator')\n",
    "check_date_integrity(all_dataframes['network-indicator'], 'network-indicator')\n",
    "check_date_integrity(all_dataframes['miner-flows'], 'miner-flows')\n",
    "check_date_integrity(all_dataframes['derivatives'], 'derivatives')\n",
    "check_date_integrity(all_dataframes['fund-data'], 'fund-data')\n",
    "check_date_integrity(all_dataframes['market-data'], 'market-data')\n",
    "check_date_integrity(all_dataframes['addresses'], 'addresses')\n",
    "check_date_integrity(all_dataframes['fees-and-revenue'], 'fees-and-revenue')\n",
    "check_date_integrity(all_dataframes['network-stats'], 'network-stats')\n",
    "check_date_integrity(all_dataframes['supply'], 'supply')\n",
    "check_date_integrity(all_dataframes['transactions'], 'transactions')\n",
    "check_date_integrity(all_dataframes['inter-entity-flows'], 'inter-entity-flows')\n",
    "check_date_integrity(all_dataframes['bank-flows'], 'bank-flows')\n",
    "check_date_integrity(all_dataframes['research'], 'research')"
   ]
  },
  {
   "cell_type": "markdown",
   "id": "14d7a87b",
   "metadata": {},
   "source": [
    "As We can See fund-data still has problem"
   ]
  },
  {
   "cell_type": "code",
   "execution_count": 30,
   "id": "f8b4f96f",
   "metadata": {},
   "outputs": [
    {
     "name": "stdout",
     "output_type": "stream",
     "text": [
      "(753, 2)\n",
      "(773, 2)\n",
      "(775, 2)\n",
      "(1093, 2)\n"
     ]
    }
   ],
   "source": [
    "for indicator in all_dataframes['fund-data']:\n",
    "    print(indicator.shape)"
   ]
  },
  {
   "cell_type": "markdown",
   "id": "58bb8aec",
   "metadata": {},
   "source": [
    "There is shape inconsistency in data so I will reomve those indicators with less datapoints manually."
   ]
  },
  {
   "cell_type": "code",
   "execution_count": 31,
   "id": "44ab5f3f",
   "metadata": {},
   "outputs": [],
   "source": [
    "del all_dataframes['fund-data'][:-1]"
   ]
  },
  {
   "cell_type": "code",
   "execution_count": 32,
   "id": "034f3767",
   "metadata": {},
   "outputs": [
    {
     "data": {
      "text/plain": [
       "1"
      ]
     },
     "execution_count": 32,
     "metadata": {},
     "output_type": "execute_result"
    }
   ],
   "source": [
    "len(all_dataframes['fund-data'])"
   ]
  },
  {
   "cell_type": "markdown",
   "id": "3da1a656",
   "metadata": {},
   "source": [
    "# Combine Dataframes"
   ]
  },
  {
   "cell_type": "code",
   "execution_count": 33,
   "id": "f57c212c",
   "metadata": {},
   "outputs": [],
   "source": [
    "# Placeholder for aggregated data\n",
    "exchange_flows_dataframe = combine_dfs(all_dataframes['exchange-flows'])\n",
    "flow_indicator_dataframe = combine_dfs(all_dataframes['flow-indicator'])\n",
    "market_indicator_dataframe = combine_dfs(all_dataframes['market-indicator'])\n",
    "network_indicator_dataframe = combine_dfs(all_dataframes['network-indicator'])\n",
    "miner_flows_dataframe = combine_dfs(all_dataframes['miner-flows'])\n",
    "derivatives_dataframe = combine_dfs(all_dataframes['derivatives'])\n",
    "fund_data_dataframe = combine_dfs(all_dataframes['fund-data'])\n",
    "market_data_dataframe = combine_dfs(all_dataframes['market-data'])\n",
    "addresses_dataframe = combine_dfs(all_dataframes['addresses'])\n",
    "fees_and_revenue_dataframe = combine_dfs(all_dataframes['fees-and-revenue'])\n",
    "network_stats_dataframe = combine_dfs(all_dataframes['network-stats'])\n",
    "supply_dataframe = combine_dfs(all_dataframes['supply'])\n",
    "transactions_dataframe = combine_dfs(all_dataframes['transactions'])\n",
    "inter_entity_flows_dataframe = combine_dfs(all_dataframes['inter-entity-flows'])\n",
    "bank_flows_dataframe = combine_dfs(all_dataframes['bank-flows'])\n",
    "research_dataframe = combine_dfs(all_dataframes['research'])"
   ]
  },
  {
   "cell_type": "markdown",
   "id": "ed2e3e0a",
   "metadata": {},
   "source": [
    "# Read Fear and Greed Dataset"
   ]
  },
  {
   "cell_type": "code",
   "execution_count": 34,
   "id": "9e0bbf7e",
   "metadata": {},
   "outputs": [],
   "source": [
    "fearandgreed = pd.read_csv(r'../datasets/fearandgreed.csv')"
   ]
  },
  {
   "cell_type": "code",
   "execution_count": 35,
   "id": "52c50f8c",
   "metadata": {},
   "outputs": [],
   "source": [
    "# Filter the DataFrame to be align with indicators\n",
    "filtered_df = fearandgreed[(fearandgreed['Date'] >= str(exchange_flows_dataframe[\"Date\"].min()).split()[0]) & (fearandgreed['Date'] <= str(exchange_flows_dataframe[\"Date\"].max()).split()[0])]\n",
    "\n",
    "# Sort the filtered DataFrame in reverse order based on the 'Date' column\n",
    "fearandgreed_dataframe = filtered_df.sort_values(by='Date', ascending=True)\n",
    "fearandgreed_dataframe.reset_index(inplace=True)\n",
    "fearandgreed_dataframe.drop(columns=['index'], inplace=True)"
   ]
  },
  {
   "cell_type": "markdown",
   "id": "9a5ba003",
   "metadata": {},
   "source": [
    "# Check for Integrity between Fear and Greed and others"
   ]
  },
  {
   "cell_type": "code",
   "execution_count": 36,
   "id": "920f89c0",
   "metadata": {},
   "outputs": [
    {
     "name": "stdout",
     "output_type": "stream",
     "text": [
      "All DataFrames have the same Date values for 'exchange-flows' directory.\n",
      "All DataFrames have the same Date values for 'flow-indicator' directory.\n",
      "All DataFrames have the same Date values for 'market-indicator' directory.\n",
      "All DataFrames have the same Date values for 'network-indicator' directory.\n",
      "All DataFrames have the same Date values for 'miner-flows' directory.\n",
      "All DataFrames have the same Date values for 'derivatives' directory.\n",
      "All DataFrames have the same Date values for 'fund-data' directory.\n",
      "All DataFrames have the same Date values for 'market-data' directory.\n",
      "All DataFrames have the same Date values for 'addresses' directory.\n",
      "All DataFrames have the same Date values for 'fees-and-revenue' directory.\n",
      "All DataFrames have the same Date values for 'network-stats' directory.\n",
      "All DataFrames have the same Date values for 'supply' directory.\n",
      "All DataFrames have the same Date values for 'transactions' directory.\n",
      "All DataFrames have the same Date values for 'inter-entity-flows' directory.\n",
      "All DataFrames have the same Date values for 'bank-flows' directory.\n",
      "All DataFrames have the same Date values for 'research' directory.\n"
     ]
    }
   ],
   "source": [
    "fearandgreed_integrity_check(fearandgreed_dataframe, exchange_flows_dataframe, 'exchange-flows')\n",
    "fearandgreed_integrity_check(fearandgreed_dataframe, flow_indicator_dataframe, 'flow-indicator')\n",
    "fearandgreed_integrity_check(fearandgreed_dataframe, market_indicator_dataframe, 'market-indicator')\n",
    "fearandgreed_integrity_check(fearandgreed_dataframe, network_indicator_dataframe, 'network-indicator')\n",
    "fearandgreed_integrity_check(fearandgreed_dataframe, miner_flows_dataframe, 'miner-flows')\n",
    "fearandgreed_integrity_check(fearandgreed_dataframe, derivatives_dataframe, 'derivatives')\n",
    "fearandgreed_integrity_check(fearandgreed_dataframe, fund_data_dataframe, 'fund-data')\n",
    "fearandgreed_integrity_check(fearandgreed_dataframe, market_data_dataframe, 'market-data')\n",
    "fearandgreed_integrity_check(fearandgreed_dataframe, addresses_dataframe, 'addresses')\n",
    "fearandgreed_integrity_check(fearandgreed_dataframe, fees_and_revenue_dataframe, 'fees-and-revenue')\n",
    "fearandgreed_integrity_check(fearandgreed_dataframe, network_stats_dataframe, 'network-stats')\n",
    "fearandgreed_integrity_check(fearandgreed_dataframe, supply_dataframe, 'supply')\n",
    "fearandgreed_integrity_check(fearandgreed_dataframe, transactions_dataframe, 'transactions')\n",
    "fearandgreed_integrity_check(fearandgreed_dataframe, inter_entity_flows_dataframe, 'inter-entity-flows')\n",
    "fearandgreed_integrity_check(fearandgreed_dataframe, bank_flows_dataframe, 'bank-flows')\n",
    "fearandgreed_integrity_check(fearandgreed_dataframe, research_dataframe, 'research')"
   ]
  },
  {
   "cell_type": "markdown",
   "id": "571be69a",
   "metadata": {},
   "source": [
    "# Combine All DataFrames"
   ]
  },
  {
   "cell_type": "code",
   "execution_count": 37,
   "id": "9904fc09",
   "metadata": {},
   "outputs": [],
   "source": [
    "list_of_all_dataframes = [\n",
    "    exchange_flows_dataframe,\n",
    "    flow_indicator_dataframe,\n",
    "    market_indicator_dataframe,\n",
    "    network_indicator_dataframe,\n",
    "    miner_flows_dataframe,\n",
    "    derivatives_dataframe,\n",
    "    fund_data_dataframe,\n",
    "    market_data_dataframe,\n",
    "    addresses_dataframe,\n",
    "    fees_and_revenue_dataframe,\n",
    "    network_stats_dataframe,\n",
    "    supply_dataframe,\n",
    "    transactions_dataframe,\n",
    "    inter_entity_flows_dataframe,\n",
    "    bank_flows_dataframe,\n",
    "    research_dataframe,\n",
    "]"
   ]
  },
  {
   "cell_type": "code",
   "execution_count": 38,
   "id": "f0a78cc2",
   "metadata": {},
   "outputs": [],
   "source": [
    "combined_dataframe = combine_dfs(list_of_all_dataframes)"
   ]
  },
  {
   "cell_type": "code",
   "execution_count": 39,
   "id": "9bbb8eb7",
   "metadata": {},
   "outputs": [
    {
     "data": {
      "text/html": [
       "<div>\n",
       "<style scoped>\n",
       "    .dataframe tbody tr th:only-of-type {\n",
       "        vertical-align: middle;\n",
       "    }\n",
       "\n",
       "    .dataframe tbody tr th {\n",
       "        vertical-align: top;\n",
       "    }\n",
       "\n",
       "    .dataframe thead th {\n",
       "        text-align: right;\n",
       "    }\n",
       "</style>\n",
       "<table border=\"1\" class=\"dataframe\">\n",
       "  <thead>\n",
       "    <tr style=\"text-align: right;\">\n",
       "      <th></th>\n",
       "      <th>exchange-inflow-mean</th>\n",
       "      <th>Date</th>\n",
       "      <th>exchange-in-house-transactions</th>\n",
       "      <th>exchange-outflow-mean</th>\n",
       "      <th>exchange-in-house-flow-mean</th>\n",
       "      <th>exchange-depositing-transactions</th>\n",
       "      <th>exchange-reserve-usd</th>\n",
       "      <th>exchange-reserve</th>\n",
       "      <th>exchange-inflow-total</th>\n",
       "      <th>exchange-inflow-mean-ma7</th>\n",
       "      <th>...</th>\n",
       "      <th>bank-withdrawing-addresses</th>\n",
       "      <th>fund-to-all-exchange-reserve-ratio</th>\n",
       "      <th>exchange-token-transferred-ratio-us-vs-off-shore</th>\n",
       "      <th>fund-to-kycd-exchange-reserve-ratio</th>\n",
       "      <th>exchange-reserve-ratio-us-vs-off-shore</th>\n",
       "      <th>miner-selling-power-log-scaled</th>\n",
       "      <th>exchange-reserve-ratio-kyc-vs-non-kyc</th>\n",
       "      <th>exchange-token-transferred-ratio-kyc-vs-non-kyc</th>\n",
       "      <th>us-to-the-rest-reserve-ratio</th>\n",
       "      <th>fund-to-non-kycd-exchange-reserve-ratio</th>\n",
       "    </tr>\n",
       "  </thead>\n",
       "  <tbody>\n",
       "    <tr>\n",
       "      <th>0</th>\n",
       "      <td>0.503413</td>\n",
       "      <td>2021-03-12</td>\n",
       "      <td>13208.0</td>\n",
       "      <td>4.551402</td>\n",
       "      <td>12.083344</td>\n",
       "      <td>125855.0</td>\n",
       "      <td>1.567197e+11</td>\n",
       "      <td>2.738090e+06</td>\n",
       "      <td>63357.050072</td>\n",
       "      <td>0.518465</td>\n",
       "      <td>...</td>\n",
       "      <td>9553.0</td>\n",
       "      <td>-1.258885</td>\n",
       "      <td>1.445280</td>\n",
       "      <td>-0.982714</td>\n",
       "      <td>0.332806</td>\n",
       "      <td>-6.856966</td>\n",
       "      <td>1.145474</td>\n",
       "      <td>2.291694</td>\n",
       "      <td>1.655493</td>\n",
       "      <td>0.162758</td>\n",
       "    </tr>\n",
       "    <tr>\n",
       "      <th>1</th>\n",
       "      <td>0.440310</td>\n",
       "      <td>2021-03-13</td>\n",
       "      <td>12847.0</td>\n",
       "      <td>3.304152</td>\n",
       "      <td>10.343571</td>\n",
       "      <td>117525.0</td>\n",
       "      <td>1.678120e+11</td>\n",
       "      <td>2.743219e+06</td>\n",
       "      <td>51747.489707</td>\n",
       "      <td>0.527716</td>\n",
       "      <td>...</td>\n",
       "      <td>56660.0</td>\n",
       "      <td>-1.260702</td>\n",
       "      <td>1.434752</td>\n",
       "      <td>-0.983094</td>\n",
       "      <td>0.325510</td>\n",
       "      <td>-6.861351</td>\n",
       "      <td>1.139529</td>\n",
       "      <td>2.280211</td>\n",
       "      <td>1.645931</td>\n",
       "      <td>0.156433</td>\n",
       "    </tr>\n",
       "    <tr>\n",
       "      <th>2</th>\n",
       "      <td>0.544238</td>\n",
       "      <td>2021-03-14</td>\n",
       "      <td>13161.0</td>\n",
       "      <td>2.307542</td>\n",
       "      <td>8.971002</td>\n",
       "      <td>116359.0</td>\n",
       "      <td>1.635659e+11</td>\n",
       "      <td>2.773449e+06</td>\n",
       "      <td>63326.988510</td>\n",
       "      <td>0.545019</td>\n",
       "      <td>...</td>\n",
       "      <td>201.0</td>\n",
       "      <td>-1.272528</td>\n",
       "      <td>1.446427</td>\n",
       "      <td>-0.996278</td>\n",
       "      <td>0.337094</td>\n",
       "      <td>-6.857093</td>\n",
       "      <td>1.145143</td>\n",
       "      <td>2.302245</td>\n",
       "      <td>1.642152</td>\n",
       "      <td>0.148863</td>\n",
       "    </tr>\n",
       "    <tr>\n",
       "      <th>3</th>\n",
       "      <td>0.683363</td>\n",
       "      <td>2021-03-15</td>\n",
       "      <td>12952.0</td>\n",
       "      <td>6.315376</td>\n",
       "      <td>15.916771</td>\n",
       "      <td>121774.0</td>\n",
       "      <td>1.539292e+11</td>\n",
       "      <td>2.766848e+06</td>\n",
       "      <td>83215.807175</td>\n",
       "      <td>0.560821</td>\n",
       "      <td>...</td>\n",
       "      <td>3.0</td>\n",
       "      <td>-1.269151</td>\n",
       "      <td>1.449901</td>\n",
       "      <td>-0.993924</td>\n",
       "      <td>0.352227</td>\n",
       "      <td>-6.831393</td>\n",
       "      <td>1.149389</td>\n",
       "      <td>2.309498</td>\n",
       "      <td>1.660185</td>\n",
       "      <td>0.155463</td>\n",
       "    </tr>\n",
       "    <tr>\n",
       "      <th>4</th>\n",
       "      <td>0.525389</td>\n",
       "      <td>2021-03-16</td>\n",
       "      <td>13188.0</td>\n",
       "      <td>5.033551</td>\n",
       "      <td>17.880090</td>\n",
       "      <td>125037.0</td>\n",
       "      <td>1.569973e+11</td>\n",
       "      <td>2.758920e+06</td>\n",
       "      <td>65693.049796</td>\n",
       "      <td>0.546849</td>\n",
       "      <td>...</td>\n",
       "      <td>74.0</td>\n",
       "      <td>-1.265925</td>\n",
       "      <td>1.461431</td>\n",
       "      <td>-0.990291</td>\n",
       "      <td>0.358105</td>\n",
       "      <td>-6.826721</td>\n",
       "      <td>1.147696</td>\n",
       "      <td>2.327125</td>\n",
       "      <td>1.668286</td>\n",
       "      <td>0.157404</td>\n",
       "    </tr>\n",
       "  </tbody>\n",
       "</table>\n",
       "<p>5 rows × 172 columns</p>\n",
       "</div>"
      ],
      "text/plain": [
       "   exchange-inflow-mean       Date  exchange-in-house-transactions  \\\n",
       "0              0.503413 2021-03-12                         13208.0   \n",
       "1              0.440310 2021-03-13                         12847.0   \n",
       "2              0.544238 2021-03-14                         13161.0   \n",
       "3              0.683363 2021-03-15                         12952.0   \n",
       "4              0.525389 2021-03-16                         13188.0   \n",
       "\n",
       "   exchange-outflow-mean  exchange-in-house-flow-mean  \\\n",
       "0               4.551402                    12.083344   \n",
       "1               3.304152                    10.343571   \n",
       "2               2.307542                     8.971002   \n",
       "3               6.315376                    15.916771   \n",
       "4               5.033551                    17.880090   \n",
       "\n",
       "   exchange-depositing-transactions  exchange-reserve-usd  exchange-reserve  \\\n",
       "0                          125855.0          1.567197e+11      2.738090e+06   \n",
       "1                          117525.0          1.678120e+11      2.743219e+06   \n",
       "2                          116359.0          1.635659e+11      2.773449e+06   \n",
       "3                          121774.0          1.539292e+11      2.766848e+06   \n",
       "4                          125037.0          1.569973e+11      2.758920e+06   \n",
       "\n",
       "   exchange-inflow-total  exchange-inflow-mean-ma7  ...  \\\n",
       "0           63357.050072                  0.518465  ...   \n",
       "1           51747.489707                  0.527716  ...   \n",
       "2           63326.988510                  0.545019  ...   \n",
       "3           83215.807175                  0.560821  ...   \n",
       "4           65693.049796                  0.546849  ...   \n",
       "\n",
       "   bank-withdrawing-addresses  fund-to-all-exchange-reserve-ratio  \\\n",
       "0                      9553.0                           -1.258885   \n",
       "1                     56660.0                           -1.260702   \n",
       "2                       201.0                           -1.272528   \n",
       "3                         3.0                           -1.269151   \n",
       "4                        74.0                           -1.265925   \n",
       "\n",
       "   exchange-token-transferred-ratio-us-vs-off-shore  \\\n",
       "0                                          1.445280   \n",
       "1                                          1.434752   \n",
       "2                                          1.446427   \n",
       "3                                          1.449901   \n",
       "4                                          1.461431   \n",
       "\n",
       "   fund-to-kycd-exchange-reserve-ratio  \\\n",
       "0                            -0.982714   \n",
       "1                            -0.983094   \n",
       "2                            -0.996278   \n",
       "3                            -0.993924   \n",
       "4                            -0.990291   \n",
       "\n",
       "   exchange-reserve-ratio-us-vs-off-shore  miner-selling-power-log-scaled  \\\n",
       "0                                0.332806                       -6.856966   \n",
       "1                                0.325510                       -6.861351   \n",
       "2                                0.337094                       -6.857093   \n",
       "3                                0.352227                       -6.831393   \n",
       "4                                0.358105                       -6.826721   \n",
       "\n",
       "   exchange-reserve-ratio-kyc-vs-non-kyc  \\\n",
       "0                               1.145474   \n",
       "1                               1.139529   \n",
       "2                               1.145143   \n",
       "3                               1.149389   \n",
       "4                               1.147696   \n",
       "\n",
       "   exchange-token-transferred-ratio-kyc-vs-non-kyc  \\\n",
       "0                                         2.291694   \n",
       "1                                         2.280211   \n",
       "2                                         2.302245   \n",
       "3                                         2.309498   \n",
       "4                                         2.327125   \n",
       "\n",
       "   us-to-the-rest-reserve-ratio  fund-to-non-kycd-exchange-reserve-ratio  \n",
       "0                      1.655493                                 0.162758  \n",
       "1                      1.645931                                 0.156433  \n",
       "2                      1.642152                                 0.148863  \n",
       "3                      1.660185                                 0.155463  \n",
       "4                      1.668286                                 0.157404  \n",
       "\n",
       "[5 rows x 172 columns]"
      ]
     },
     "execution_count": 39,
     "metadata": {},
     "output_type": "execute_result"
    }
   ],
   "source": [
    "combined_dataframe.head()"
   ]
  },
  {
   "cell_type": "markdown",
   "id": "39efbcea",
   "metadata": {},
   "source": [
    "# Select Indicators"
   ]
  },
  {
   "cell_type": "markdown",
   "id": "b3bba216",
   "metadata": {},
   "source": [
    "## Correlation with Fear and Greed"
   ]
  },
  {
   "cell_type": "code",
   "execution_count": 40,
   "id": "ea32a1e9",
   "metadata": {},
   "outputs": [],
   "source": [
    "combined_dataframe['fearandgreed'] = fearandgreed_dataframe['fearandgreed'].values"
   ]
  },
  {
   "cell_type": "code",
   "execution_count": 41,
   "id": "b7b21512",
   "metadata": {},
   "outputs": [],
   "source": [
    "combined_dataframe.dropna(inplace=True)"
   ]
  },
  {
   "cell_type": "code",
   "execution_count": 42,
   "id": "fdb9a110",
   "metadata": {},
   "outputs": [],
   "source": [
    "Dates = combined_dataframe.Date"
   ]
  },
  {
   "cell_type": "code",
   "execution_count": 43,
   "id": "3ed2b015",
   "metadata": {},
   "outputs": [],
   "source": [
    "combined_dataframe = combined_dataframe.drop(columns=[\"Date\"]).copy()"
   ]
  },
  {
   "cell_type": "code",
   "execution_count": 44,
   "id": "f19a85a7",
   "metadata": {},
   "outputs": [
    {
     "data": {
      "text/plain": [
       "(1093, 172)"
      ]
     },
     "execution_count": 44,
     "metadata": {},
     "output_type": "execute_result"
    }
   ],
   "source": [
    "combined_dataframe.shape"
   ]
  },
  {
   "cell_type": "code",
   "execution_count": 45,
   "id": "dda14eba",
   "metadata": {},
   "outputs": [],
   "source": [
    "# Generate correlation matrix\n",
    "correlation_matrix_combined = combined_dataframe.corr()"
   ]
  },
  {
   "cell_type": "code",
   "execution_count": 46,
   "id": "0615837d",
   "metadata": {},
   "outputs": [],
   "source": [
    "# Correlation with fear and greed\n",
    "correlation_matrix_fearandgreed = correlation_matrix_combined['fearandgreed']"
   ]
  },
  {
   "cell_type": "code",
   "execution_count": 47,
   "id": "f373380e",
   "metadata": {},
   "outputs": [],
   "source": [
    "# Select indicators with high correlation\n",
    "most_relevant_indicators = correlation_matrix_fearandgreed[correlation_matrix_fearandgreed >= 0.60]"
   ]
  },
  {
   "cell_type": "code",
   "execution_count": 48,
   "id": "1c6cea91",
   "metadata": {},
   "outputs": [],
   "source": [
    "correlation_matrix_most_relevant = combined_dataframe[most_relevant_indicators.keys()].corr()"
   ]
  },
  {
   "cell_type": "code",
   "execution_count": 49,
   "id": "7e2f80fb",
   "metadata": {},
   "outputs": [
    {
     "data": {
      "image/png": "[encoded data removed]",
      "text/plain": [
       "<Figure size 1800x800 with 2 Axes>"
      ]
     },
     "metadata": {},
     "output_type": "display_data"
    }
   ],
   "source": [
    "plt.figure(figsize=(18, 8))  # Increase the figure size\n",
    "sns.heatmap(correlation_matrix_most_relevant, annot=True, cmap=plt.cm.Reds, fmt=\".2f\", annot_kws={\"size\": 8}) \n",
    "plt.title('Correlation Matrix')\n",
    "plt.show()"
   ]
  },
  {
   "cell_type": "code",
   "execution_count": null,
   "id": "68abb5a0",
   "metadata": {},
   "outputs": [],
   "source": []
  },
  {
   "cell_type": "code",
   "execution_count": null,
   "id": "0ead9d66",
   "metadata": {},
   "outputs": [],
   "source": []
  },
  {
   "cell_type": "code",
   "execution_count": null,
   "id": "1053a51e",
   "metadata": {},
   "outputs": [],
   "source": []
  },
  {
   "cell_type": "code",
   "execution_count": null,
   "id": "a2f4c20d",
   "metadata": {},
   "outputs": [],
   "source": []
  },
  {
   "cell_type": "code",
   "execution_count": 50,
   "id": "82619ff7",
   "metadata": {},
   "outputs": [],
   "source": [
    "!conda env export > environment.yml"
   ]
  },
  {
   "cell_type": "code",
   "execution_count": null,
   "id": "14ece9b8",
   "metadata": {},
   "outputs": [],
   "source": []
  }
 ],
 "metadata": {
  "kernelspec": {
   "display_name": "Python 3 (ipykernel)",
   "language": "python",
   "name": "python3"
  },
  "language_info": {
   "codemirror_mode": {
    "name": "ipython",
    "version": 3
   },
   "file_extension": ".py",
   "mimetype": "text/x-python",
   "name": "python",
   "nbconvert_exporter": "python",
   "pygments_lexer": "ipython3",
   "version": "3.11.5"
  }
 },
 "nbformat": 4,
 "nbformat_minor": 5
}
