{
 "cells": [
  {
   "cell_type": "markdown",
   "id": "05395c15-3048-44b3-bba7-71894f0ebbd8",
   "metadata": {},
   "source": [
    "# Import Libraries"
   ]
  },
  {
   "cell_type": "code",
   "execution_count": 1,
   "id": "b1f04305-8555-4690-9a37-0d042db28ab3",
   "metadata": {},
   "outputs": [],
   "source": [
    "# Data manipulation and scientific computing\n",
    "import pandas as pd\n",
    "import numpy as np\n",
    "import scipy\n",
    "\n",
    "# Data Visualization\n",
    "import matplotlib.pyplot as plt\n",
    "import seaborn as sns\n",
    "\n",
    "# Others\n",
    "import os\n",
    "import glob"
   ]
  },
  {
   "cell_type": "markdown",
   "id": "23f5ef90",
   "metadata": {},
   "source": [
    "# Read Dataset"
   ]
  },
  {
   "cell_type": "code",
   "execution_count": 2,
   "id": "a1d2a54a",
   "metadata": {},
   "outputs": [],
   "source": [
    "# Base directory where dataset is stored\n",
    "BASE_DIR = r'../datasets/'\n",
    "\n",
    "# "
   ]
  },
  {
   "cell_type": "code",
   "execution_count": null,
   "id": "36ce28c9",
   "metadata": {},
   "outputs": [],
   "source": [
    "def read_data(BASE_DIR):\n",
    "    data = dict()\n",
    "    for dir in os.listdir(BASE_DIR):\n",
    "        if 'csv' in dir or '.ipynb_checkpoints' in dir:\n",
    "            continue\n",
    "        print(f\"\\n\\n\\nEnter ____ {dir} ____ Directory\")\n",
    "        data[dir] = {}\n",
    "        dir_path = os.path.join(BASE_DIR, dir)\n",
    "        for file_path in glob.glob(os.path.join(dir_path, '*.json')):\n",
    "            name = file_path.split('\\\\')[-1].split(\".\")[0].strip()\n",
    "            print(f\"Start Reading {name}...\")\n",
    "             # Load JSON file into DataFrame\n",
    "            with open(file_path, 'r') as file:\n",
    "                # Load json file\n",
    "                json_data = json.load(file)['data']\n",
    "                data[dir][name] = json_data\n",
    "                print(f\"{name} loaded succesfully :)\\n\")\n",
    "    return data\n",
    "                "
   ]
  }
 ],
 "metadata": {
  "kernelspec": {
   "display_name": "Python 3 (ipykernel)",
   "language": "python",
   "name": "python3"
  },
  "language_info": {
   "codemirror_mode": {
    "name": "ipython",
    "version": 3
   },
   "file_extension": ".py",
   "mimetype": "text/x-python",
   "name": "python",
   "nbconvert_exporter": "python",
   "pygments_lexer": "ipython3",
   "version": "3.11.5"
  }
 },
 "nbformat": 4,
 "nbformat_minor": 5
}
