# !pip install pygad


# from google.colab import drive
# drive.mount('/content/drive')


# %cd /content/drive/MyDrive/Undergraduate-Capstone-Project/src/





# Data manipulation and scientific computing
import pandas as pd
import numpy as np
import scipy

# Data Visualization
import matplotlib.pyplot as plt
import seaborn as sns
from visualizers import plot
from visualizers import subplot
from visualizers import plot_fitness

# Other modules for preprocessing
from utils import read_data
from utils import convert_data_to_dataframe
from utils import check_date_integrity
from utils import check_shape_integrity
from utils import check_period_integrity
from utils import drop_indicator
from utils import align_dataframes
from utils import combine_dfs
from utils import fearandgreed_integrity_check

# Optimization
from optimizers import linear_genetic_algorithm

from optimizers import mlp_genetic_algorithm

# Model 
from models import NeuralNetwork

# Strategy
from utils import strategy

# Parallel Processing
from multiprocessing import Pool, cpu_count
from tqdm import tqdm

# Sliding Window
from utils import process_window





# Base directory where dataset is stored
BASE_DIR = r'../datasets/'

# Read datasets (indicators)
data = read_data(BASE_DIR)


# Convert indicator data from list to pandas dataframe
all_dataframes = convert_data_to_dataframe(data)








check_date_integrity(all_dataframes['exchange-flows'], 'exchange-flows')
check_date_integrity(all_dataframes['flow-indicator'], 'flow-indicator')
check_date_integrity(all_dataframes['market-indicator'], 'market-indicator')
check_date_integrity(all_dataframes['network-indicator'], 'network-indicator')
check_date_integrity(all_dataframes['miner-flows'], 'miner-flows')
check_date_integrity(all_dataframes['derivatives'], 'derivatives')
check_date_integrity(all_dataframes['fund-data'], 'fund-data')
check_date_integrity(all_dataframes['market-data'], 'market-data')
check_date_integrity(all_dataframes['addresses'], 'addresses')
check_date_integrity(all_dataframes['fees-and-revenue'], 'fees-and-revenue')
check_date_integrity(all_dataframes['network-stats'], 'network-stats')
check_date_integrity(all_dataframes['supply'], 'supply')
check_date_integrity(all_dataframes['transactions'], 'transactions')
check_date_integrity(all_dataframes['inter-entity-flows'], 'inter-entity-flows')
check_date_integrity(all_dataframes['bank-flows'], 'bank-flows')
check_date_integrity(all_dataframes['research'], 'research')





check_shape_integrity(all_dataframes['exchange-flows'], 'exchange-flows')
check_shape_integrity(all_dataframes['flow-indicator'], 'flow-indicator')
check_shape_integrity(all_dataframes['market-indicator'], 'market-indicator')
check_shape_integrity(all_dataframes['network-indicator'], 'network-indicator')
check_shape_integrity(all_dataframes['miner-flows'], 'miner-flows')
check_shape_integrity(all_dataframes['derivatives'], 'derivatives')
check_shape_integrity(all_dataframes['fund-data'], 'fund-data')
check_shape_integrity(all_dataframes['market-data'], 'market-data')
check_shape_integrity(all_dataframes['addresses'], 'addresses')
check_shape_integrity(all_dataframes['fees-and-revenue'], 'fees-and-revenue')
check_shape_integrity(all_dataframes['network-stats'], 'network-stats')
check_shape_integrity(all_dataframes['supply'], 'supply')
check_shape_integrity(all_dataframes['transactions'], 'transactions')
check_shape_integrity(all_dataframes['inter-entity-flows'], 'inter-entity-flows')
check_shape_integrity(all_dataframes['bank-flows'], 'bank-flows')
check_shape_integrity(all_dataframes['research'], 'research')








check_period_integrity(all_dataframes['exchange-flows'], 'exchange-flows')








check_period_integrity(all_dataframes['flow-indicator'], 'flow-indicator')








all_dataframes['flow-indicator'] = drop_indicator(all_dataframes['flow-indicator'], based_on='start', month='06')


check_period_integrity(all_dataframes['flow-indicator'], 'flow-indicator')





check_period_integrity(all_dataframes['market-indicator'], 'market-indicator')








check_period_integrity(all_dataframes['network-indicator'], 'network-indicator')








check_period_integrity(all_dataframes['miner-flows'], 'miner-flows')








check_period_integrity(all_dataframes['derivatives'], 'derivatives')








check_period_integrity(all_dataframes['fund-data'], 'fund-data')








check_period_integrity(all_dataframes['market-data'], 'market-data')








check_period_integrity(all_dataframes['addresses'], 'addresses')








check_period_integrity(all_dataframes['fees-and-revenue'], 'fees-and-revenue')








check_period_integrity(all_dataframes['network-stats'], 'network-stats')








check_period_integrity(all_dataframes['supply'], 'supply')








check_period_integrity(all_dataframes['transactions'], 'transactions')








check_period_integrity(all_dataframes['inter-entity-flows'], 'inter-entity-flows')








all_dataframes['inter-entity-flows'] = drop_indicator(all_dataframes['inter-entity-flows'], based_on='end', month='01')


check_period_integrity(all_dataframes['inter-entity-flows'], 'inter-entity-flows')





check_period_integrity(all_dataframes['bank-flows'], 'bank-flows')








check_period_integrity(all_dataframes['research'], 'research')








all_dataframes['research'] = drop_indicator(all_dataframes['research'], based_on='start', day='18')


check_period_integrity(all_dataframes['research'], 'research')








all_dataframes['exchange-flows'] = align_dataframes(all_dataframes['exchange-flows'], 'exchange-flows').copy()
all_dataframes['flow-indicator'] = align_dataframes(all_dataframes['flow-indicator'], 'flow-indicator').copy()
all_dataframes['market-indicator'] = align_dataframes(all_dataframes['market-indicator'], 'market-indicator').copy()
all_dataframes['network-indicator'] = align_dataframes(all_dataframes['network-indicator'], 'network-indicator').copy()
all_dataframes['miner-flows'] = align_dataframes(all_dataframes['miner-flows'], 'miner-flows').copy()
all_dataframes['derivatives'] = align_dataframes(all_dataframes['derivatives'], 'derivatives').copy()
all_dataframes['fund-data'] = align_dataframes(all_dataframes['fund-data'], 'fund-data').copy()
all_dataframes['market-data'] = align_dataframes(all_dataframes['market-data'], 'market-data').copy()
all_dataframes['addresses'] = align_dataframes(all_dataframes['addresses'], 'addresses').copy()
all_dataframes['fees-and-revenue'] = align_dataframes(all_dataframes['fees-and-revenue'], 'fees-and-revenue').copy()
all_dataframes['network-stats'] = align_dataframes(all_dataframes['network-stats'], 'network-stats').copy()
all_dataframes['supply'] = align_dataframes(all_dataframes['supply'], 'supply').copy()
all_dataframes['transactions'] = align_dataframes(all_dataframes['transactions'], 'transactions').copy()
all_dataframes['inter-entity-flows'] = align_dataframes(all_dataframes['inter-entity-flows'], 'inter-entity-flows').copy()
all_dataframes['bank-flows'] = align_dataframes(all_dataframes['bank-flows'], 'bank-flows').copy()
all_dataframes['research'] = align_dataframes(all_dataframes['research'], 'research').copy()





check_date_integrity(all_dataframes['exchange-flows'], 'exchange-flows')
check_date_integrity(all_dataframes['flow-indicator'], 'flow-indicator')
check_date_integrity(all_dataframes['market-indicator'], 'market-indicator')
check_date_integrity(all_dataframes['network-indicator'], 'network-indicator')
check_date_integrity(all_dataframes['miner-flows'], 'miner-flows')
check_date_integrity(all_dataframes['derivatives'], 'derivatives')
check_date_integrity(all_dataframes['fund-data'], 'fund-data')
check_date_integrity(all_dataframes['market-data'], 'market-data')
check_date_integrity(all_dataframes['addresses'], 'addresses')
check_date_integrity(all_dataframes['fees-and-revenue'], 'fees-and-revenue')
check_date_integrity(all_dataframes['network-stats'], 'network-stats')
check_date_integrity(all_dataframes['supply'], 'supply')
check_date_integrity(all_dataframes['transactions'], 'transactions')
check_date_integrity(all_dataframes['inter-entity-flows'], 'inter-entity-flows')
check_date_integrity(all_dataframes['bank-flows'], 'bank-flows')
check_date_integrity(all_dataframes['research'], 'research')





for indicator in all_dataframes['fund-data']:
    print(indicator.shape)





temp = None
for indicator in all_dataframes['fund-data']:
    if indicator.shape[0] == 1093:
        temp = indicator

all_dataframes['fund-data'] = [temp]


len(all_dataframes['fund-data'])





# Placeholder for aggregated data
exchange_flows_dataframe = combine_dfs(all_dataframes['exchange-flows'])
flow_indicator_dataframe = combine_dfs(all_dataframes['flow-indicator'])
market_indicator_dataframe = combine_dfs(all_dataframes['market-indicator'])
network_indicator_dataframe = combine_dfs(all_dataframes['network-indicator'])
miner_flows_dataframe = combine_dfs(all_dataframes['miner-flows'])
derivatives_dataframe = combine_dfs(all_dataframes['derivatives'])
fund_data_dataframe = combine_dfs(all_dataframes['fund-data'])
market_data_dataframe = combine_dfs(all_dataframes['market-data'])
addresses_dataframe = combine_dfs(all_dataframes['addresses'])
fees_and_revenue_dataframe = combine_dfs(all_dataframes['fees-and-revenue'])
network_stats_dataframe = combine_dfs(all_dataframes['network-stats'])
supply_dataframe = combine_dfs(all_dataframes['supply'])
transactions_dataframe = combine_dfs(all_dataframes['transactions'])
inter_entity_flows_dataframe = combine_dfs(all_dataframes['inter-entity-flows'])
bank_flows_dataframe = combine_dfs(all_dataframes['bank-flows'])
research_dataframe = combine_dfs(all_dataframes['research'])





fearandgreed = pd.read_csv(r'../datasets/fearandgreed.csv')


# Filter the DataFrame to be align with indicators
filtered_df = fearandgreed[(fearandgreed['Date'] >= str(exchange_flows_dataframe["Date"].min()).split()[0]) & (fearandgreed['Date'] <= str(exchange_flows_dataframe["Date"].max()).split()[0])]

# Sort the filtered DataFrame in reverse order based on the 'Date' column
fearandgreed_dataframe = filtered_df.sort_values(by='Date', ascending=True)
fearandgreed_dataframe.reset_index(inplace=True)
fearandgreed_dataframe.drop(columns=['index'], inplace=True)





fearandgreed_integrity_check(fearandgreed_dataframe, exchange_flows_dataframe, 'exchange-flows')
fearandgreed_integrity_check(fearandgreed_dataframe, flow_indicator_dataframe, 'flow-indicator')
fearandgreed_integrity_check(fearandgreed_dataframe, market_indicator_dataframe, 'market-indicator')
fearandgreed_integrity_check(fearandgreed_dataframe, network_indicator_dataframe, 'network-indicator')
fearandgreed_integrity_check(fearandgreed_dataframe, miner_flows_dataframe, 'miner-flows')
fearandgreed_integrity_check(fearandgreed_dataframe, derivatives_dataframe, 'derivatives')
fearandgreed_integrity_check(fearandgreed_dataframe, fund_data_dataframe, 'fund-data')
fearandgreed_integrity_check(fearandgreed_dataframe, market_data_dataframe, 'market-data')
fearandgreed_integrity_check(fearandgreed_dataframe, addresses_dataframe, 'addresses')
fearandgreed_integrity_check(fearandgreed_dataframe, fees_and_revenue_dataframe, 'fees-and-revenue')
fearandgreed_integrity_check(fearandgreed_dataframe, network_stats_dataframe, 'network-stats')
fearandgreed_integrity_check(fearandgreed_dataframe, supply_dataframe, 'supply')
fearandgreed_integrity_check(fearandgreed_dataframe, transactions_dataframe, 'transactions')
fearandgreed_integrity_check(fearandgreed_dataframe, inter_entity_flows_dataframe, 'inter-entity-flows')
fearandgreed_integrity_check(fearandgreed_dataframe, bank_flows_dataframe, 'bank-flows')
fearandgreed_integrity_check(fearandgreed_dataframe, research_dataframe, 'research')





list_of_all_dataframes = [
    exchange_flows_dataframe,
    flow_indicator_dataframe,
    market_indicator_dataframe,
    network_indicator_dataframe,
    miner_flows_dataframe,
    derivatives_dataframe,
    fund_data_dataframe,
    market_data_dataframe,
    addresses_dataframe,
    fees_and_revenue_dataframe,
    network_stats_dataframe,
    supply_dataframe,
    transactions_dataframe,
    inter_entity_flows_dataframe,
    bank_flows_dataframe,
    research_dataframe,
]


combined_dataframe = combine_dfs(list_of_all_dataframes)


combined_dataframe.head()








combined_dataframe['fearandgreed'] = fearandgreed_dataframe['fearandgreed'].values


combined_dataframe.dropna(inplace=True)


Dates = combined_dataframe.Date


combined_dataframe = combined_dataframe.drop(columns=["Date"]).copy()


combined_dataframe.shape


# Generate correlation matrix
correlation_matrix_combined = combined_dataframe.corr()


# Correlation with fear and greed
correlation_matrix_fearandgreed = correlation_matrix_combined['fearandgreed']


# Select indicators with high correlation
most_relevant_indicators = correlation_matrix_fearandgreed[correlation_matrix_fearandgreed >= 0.60]


correlation_matrix_most_relevant = combined_dataframe[most_relevant_indicators.keys()].corr()


plt.figure(figsize=(18, 8))  # Increase the figure size
sns.heatmap(correlation_matrix_most_relevant, annot=True, cmap=plt.cm.Reds, fmt=".2f", annot_kws={"size": 8}) 
plt.title('Correlation Matrix')
plt.show()





most_relevant_indicators.index


drop_list = ['utxos-in-profit-percent', 'puell-multiple', 'supply-in-profit-percent', 'fearandgreed']
most_correlated_indicators = combined_dataframe[most_relevant_indicators.index].drop(drop_list, axis=1)


plt.figure(figsize=(18, 8))  # Increase the figure size
sns.heatmap(most_correlated_indicators.corr(), annot=True, cmap=plt.cm.Reds, fmt=".2f", annot_kws={"size": 8}) 
plt.title('Correlation Matrix')
plt.show()


most_correlated_indicators['bias'] = 1





combined_dataframe['buyandhold'] = np.full(1093, 100) 
all_indicators = combined_dataframe.drop(['price', 'fearandgreed', 'buyandhold'], axis=1)
all_indicators['bias'] = 1





# Common Parameters Configuration
start_idx = 260
downtrend_end_idx = 465

sideway_start_idx = 465
sideway_end_idx = 735

uptrend_start_idx =  735









prices, indicator_values, profits, cash, bitcoin, total = strategy(indcator=combined_dataframe['buyandhold'][start_idx:].copy().values,
        prices=combined_dataframe.price[start_idx:].copy().values)





plot("buyandhold", prices, indicator_values, profits, cash, bitcoin, total, Dates[start_idx:])





# Manually segment your data
downtrend_start_idx = start_idx
downtrend_end_idx = downtrend_end_idx

sideway_start_idx = sideway_start_idx
sideway_end_idx = sideway_end_idx

uptrend_start_idx =  uptrend_start_idx
uptrend_end_idx =  len(combined_dataframe['buyandhold'])

# Test strategy on each segment
downtrend_prices, downtrend_indicator_values, downtrend_profits, downtrend_cash, downtrend_bitcoin, downtrend_total = strategy(
    indcator=combined_dataframe['buyandhold'].copy().values[downtrend_start_idx:downtrend_end_idx].copy(),
    prices=combined_dataframe.price[downtrend_start_idx:downtrend_end_idx].copy().values)

sideway_prices, sideway_indicator_values, sideway_profits, sideway_cash, sideway_bitcoin, sideway_total = strategy(
    indcator=combined_dataframe['buyandhold'].copy().values[sideway_start_idx:sideway_end_idx].copy(),
    prices=combined_dataframe.price[sideway_start_idx:sideway_end_idx].copy().values)

uptrend_prices, uptrend_indicator_values, uptrend_profits, uptrend_cash, uptrend_bitcoin, uptrend_total = strategy(
    indcator=combined_dataframe['buyandhold'].copy().values[uptrend_start_idx:uptrend_end_idx].copy(),
    prices=combined_dataframe.price[uptrend_start_idx:uptrend_end_idx].copy().values)

# Collect dates for each segment
downtrend_dates = Dates[downtrend_start_idx:downtrend_end_idx]

sideway_dates = Dates[sideway_start_idx:sideway_end_idx]

uptrend_dates = Dates[uptrend_start_idx:uptrend_end_idx]



# Create tuples for each segment
uptrend_data = (uptrend_prices, uptrend_indicator_values, uptrend_profits, uptrend_cash, uptrend_bitcoin, uptrend_total, uptrend_dates)

sideway_data = (sideway_prices, sideway_indicator_values, sideway_profits, sideway_cash, sideway_bitcoin, sideway_total, sideway_dates)

downtrend_data = (downtrend_prices, downtrend_indicator_values, downtrend_profits, downtrend_cash, downtrend_bitcoin, downtrend_total, downtrend_dates)

# Plot the segments
subplot("buyandhold", downtrend_data, sideway_data, uptrend_data)









prices, indicator_values, profits, cash, bitcoin, total = strategy(indcator=combined_dataframe['fearandgreed'][start_idx:].copy().values,
        prices=combined_dataframe.price[start_idx:].copy().values)





plot("fearandgreed", prices, indicator_values, profits, cash, bitcoin, total, Dates[start_idx:])





# Manually segment your data
downtrend_start_idx = start_idx
downtrend_end_idx = downtrend_end_idx

sideway_start_idx = sideway_start_idx
sideway_end_idx = sideway_end_idx

uptrend_start_idx =  uptrend_start_idx
uptrend_end_idx =  len(combined_dataframe['fearandgreed'])

# Test strategy on each segment
downtrend_prices, downtrend_indicator_values, downtrend_profits, downtrend_cash, downtrend_bitcoin, downtrend_total = strategy(
    indcator=combined_dataframe['fearandgreed'].copy().values[downtrend_start_idx:downtrend_end_idx].copy(),
    prices=combined_dataframe.price[downtrend_start_idx:downtrend_end_idx].copy().values)

sideway_prices, sideway_indicator_values, sideway_profits, sideway_cash, sideway_bitcoin, sideway_total = strategy(
    indcator=combined_dataframe['fearandgreed'].copy().values[sideway_start_idx:sideway_end_idx].copy(),
    prices=combined_dataframe.price[sideway_start_idx:sideway_end_idx].copy().values)

uptrend_prices, uptrend_indicator_values, uptrend_profits, uptrend_cash, uptrend_bitcoin, uptrend_total = strategy(
    indcator=combined_dataframe['fearandgreed'].copy().values[uptrend_start_idx:uptrend_end_idx].copy(),
    prices=combined_dataframe.price[uptrend_start_idx:uptrend_end_idx].copy().values)

# Collect dates for each segment
downtrend_dates = Dates[downtrend_start_idx:downtrend_end_idx]

sideway_dates = Dates[sideway_start_idx:sideway_end_idx]

uptrend_dates = Dates[uptrend_start_idx:uptrend_end_idx]



# Create tuples for each segment
uptrend_data = (uptrend_prices, uptrend_indicator_values, uptrend_profits, uptrend_cash, uptrend_bitcoin, uptrend_total, uptrend_dates)

sideway_data = (sideway_prices, sideway_indicator_values, sideway_profits, sideway_cash, sideway_bitcoin, sideway_total, sideway_dates)

downtrend_data = (downtrend_prices, downtrend_indicator_values, downtrend_profits, downtrend_cash, downtrend_bitcoin, downtrend_total, downtrend_dates)

# Plot the segments
subplot("Fearandgreed", downtrend_data, sideway_data, uptrend_data)






import multiprocessing

# Get the number of available CPU cores
num_cores = multiprocessing.cpu_count()
print(f"Number of CPU cores available: {num_cores}")


# .


# Create the initial population
num_individuals = 2
num_genes = len(all_indicators.columns)
initial_population = np.random.rand(num_individuals, num_genes)  # Random initialization

# Configure Genetic Algorithm parameters
num_generations = 5
mutation_rate = 0.01

# Other Params
prices = combined_dataframe.price.values
num_processors = 7
parallel_type = "process"

fitness_values, best_fitness_all_indicators_linear, best_coefficients_all_indicators_linear = linear_genetic_algorithm(data_param=all_indicators[ : start_idx].copy(),
                      prices_param=prices[:start_idx].copy(), 
                      num_individuals=num_individuals, 
                      num_genes=num_genes, 
                      num_generations=num_generations,
                      mutation_rate=mutation_rate, 
                      initial_population=initial_population,
                      parallel_type=parallel_type,
                      num_processors=num_processors,
                      verbose=True)

print("Best Fitness:", best_fitness_all_indicators_linear)
# print("Best Coefficients:", best_coefficients_all_indicators_linear)

plot_fitness(fitness_values, num_generations, "Linear Model")


np.where(abs(best_coefficients_all_indicators_linear) >1)[0].shape





# create new indicator
new_indicator = np.dot(all_indicators, best_coefficients_all_indicators_linear)
min_value = np.min(new_indicator)
max_value = np.max(new_indicator)
# Normalize new_indicator to range [0, 100]
new_indicator = ((new_indicator - min_value) / (max_value - min_value)) * 100

# run strategy
prices, indicator_values, profits, cash, bitcoin, total = strategy(indcator=new_indicator[start_idx:].copy(),
        prices=combined_dataframe.price[start_idx:].copy().values)





plot("all indicators", prices, indicator_values, profits, cash, bitcoin, total, Dates[start_idx:])





# Manually segment your data
downtrend_start_idx = start_idx
downtrend_end_idx = downtrend_end_idx

sideway_start_idx = sideway_start_idx
sideway_end_idx = sideway_end_idx

uptrend_start_idx =  uptrend_start_idx
uptrend_end_idx =  len(new_indicator)

# Test strategy on each segment
downtrend_prices, downtrend_indicator_values, downtrend_profits, downtrend_cash, downtrend_bitcoin, downtrend_total = strategy(
    indcator=new_indicator[downtrend_start_idx:downtrend_end_idx].copy(),
    prices=combined_dataframe.price[downtrend_start_idx:downtrend_end_idx].copy().values)

sideway_prices, sideway_indicator_values, sideway_profits, sideway_cash, sideway_bitcoin, sideway_total = strategy(
    indcator=new_indicator[sideway_start_idx:sideway_end_idx].copy(),
    prices=combined_dataframe.price[sideway_start_idx:sideway_end_idx].copy().values)

uptrend_prices, uptrend_indicator_values, uptrend_profits, uptrend_cash, uptrend_bitcoin, uptrend_total = strategy(
    indcator=new_indicator[uptrend_start_idx:uptrend_end_idx].copy(),
    prices=combined_dataframe.price[uptrend_start_idx:uptrend_end_idx].copy().values)

# Collect dates for each segment
downtrend_dates = Dates[downtrend_start_idx:downtrend_end_idx]

sideway_dates = Dates[sideway_start_idx:sideway_end_idx]

uptrend_dates = Dates[uptrend_start_idx:uptrend_end_idx]

# Create tuples for each segment
downtrend_data = (downtrend_prices, downtrend_indicator_values, downtrend_profits, downtrend_cash, downtrend_bitcoin, downtrend_total, downtrend_dates)

sideway_data = (sideway_prices, sideway_indicator_values, sideway_profits, sideway_cash, sideway_bitcoin, sideway_total, sideway_dates)

uptrend_data = (uptrend_prices, uptrend_indicator_values, uptrend_profits, uptrend_cash, uptrend_bitcoin, uptrend_total, uptrend_dates)

# Plot the segments
subplot("Linear All Indicator", downtrend_data, sideway_data, uptrend_data)






# # Parameters
# num_individuals = 10
# num_genes = len(most_correlated_indicators.columns)

# # Configure Genetic Algorithm parameters
# num_generations = 100
# mutation_rate = 0.01
# prices = combined_dataframe.price.values

# start_idx = 245

# best_fitness, best_coefficients = genetic_algorithm(data=most_correlated_indicators[ : start_idx].copy(),
#                       prices=prices[:start_idx].copy(), 
#                       num_individuals=num_individuals, 
#                       num_genes=num_genes, 
#                       num_generations=num_generations,
#                       mutation_rate=mutation_rate)

# print("Best Fitness:", best_fitness)
# print("Best Coefficients:", best_coefficients)


# # create new indicator
# new_indicator = np.dot(most_correlated_indicators, best_coefficients)
# min_value = np.min(new_indicator)
# max_value = np.max(new_indicator)
# # Normalize new_indicator to range [0, 100]
# new_indicator = ((new_indicator - min_value) / (max_value - min_value)) * 100

# start_idx = 245

# # run strategy
# prices, indicator_values, profits, cash, bitcoin, total = strategy(indcator=new_indicator[start_idx:].copy(),
#         prices=combined_dataframe.price[start_idx:].copy().values)


# plot("most correlated", prices, indicator_values, profits, cash, bitcoin, total, Dates[start_idx:])





prices, indicator_values, profits, cash, bitcoin, total = strategy(indcator=combined_dataframe['fearandgreed'][start_idx:].copy().values,
        prices=combined_dataframe.price[start_idx:].copy().values)





plot("fearandgreed", prices, indicator_values, profits, cash, bitcoin, total, Dates[start_idx:])





# Manually segment your data
downtrend_start_idx = start_idx
downtrend_end_idx = 465

sideway_start_idx = 465
sideway_end_idx = 735

uptrend_start_idx =  735
uptrend_end_idx =  len(combined_dataframe['fearandgreed'])

# Test strategy on each segment
downtrend_prices, downtrend_indicator_values, downtrend_profits, downtrend_cash, downtrend_bitcoin, downtrend_total = strategy(
    indcator=combined_dataframe['fearandgreed'].copy().values[downtrend_start_idx:downtrend_end_idx].copy(),
    prices=combined_dataframe.price[downtrend_start_idx:downtrend_end_idx].copy().values)

sideway_prices, sideway_indicator_values, sideway_profits, sideway_cash, sideway_bitcoin, sideway_total = strategy(
    indcator=combined_dataframe['fearandgreed'].copy().values[sideway_start_idx:sideway_end_idx].copy(),
    prices=combined_dataframe.price[sideway_start_idx:sideway_end_idx].copy().values)

uptrend_prices, uptrend_indicator_values, uptrend_profits, uptrend_cash, uptrend_bitcoin, uptrend_total = strategy(
    indcator=combined_dataframe['fearandgreed'].copy().values[uptrend_start_idx:uptrend_end_idx].copy(),
    prices=combined_dataframe.price[uptrend_start_idx:uptrend_end_idx].copy().values)

# Collect dates for each segment
downtrend_dates = Dates[downtrend_start_idx:downtrend_end_idx]

sideway_dates = Dates[sideway_start_idx:sideway_end_idx]

uptrend_dates = Dates[uptrend_start_idx:uptrend_end_idx]



# Create tuples for each segment
uptrend_data = (uptrend_prices, uptrend_indicator_values, uptrend_profits, uptrend_cash, uptrend_bitcoin, uptrend_total, uptrend_dates)

sideway_data = (sideway_prices, sideway_indicator_values, sideway_profits, sideway_cash, sideway_bitcoin, sideway_total, sideway_dates)

downtrend_data = (downtrend_prices, downtrend_indicator_values, downtrend_profits, downtrend_cash, downtrend_bitcoin, downtrend_total, downtrend_dates)

# Plot the segments
subplot("Fearandgreed", uptrend_data, sideway_data, downtrend_data)






# Neural network architecture
input_layer_size = 170
hidden_layer_size = 64
output_layer_size = 1
nn = NeuralNetwork(input_layer_size, hidden_layer_size, output_layer_size)

# Create initial population
num_individuals = 600
num_genes = nn.get_weights().size
initial_population = np.random.rand(num_individuals, num_genes)

# Genetic algorithm parameters
num_generations = 1600
mutation_rate = 0.01
mlp_data = all_indicators.drop(["bias"], axis=1)

# Other Params
prices = combined_dataframe.price.values
num_processors = 6
parallel_type = None

# Run genetic algorithm
fitness_values, best_fitness_all_indicators_mlp, best_coefficients_all_indicators_mlp = mlp_genetic_algorithm(
    data_param=mlp_data[:start_idx].copy(),
    prices_param=prices[:start_idx].copy(), 
    num_individuals=num_individuals, 
    num_genes=num_genes, 
    num_generations=num_generations,
    mutation_rate=mutation_rate, 
    initial_population=initial_population,
    model=nn,
    parallel_type=parallel_type,
    num_processors=num_processors,
    verbose=True
)
print("Best Fitness:", best_fitness_all_indicators_mlp)
plot_fitness(fitness_values, num_generations, "MLP Model")


# while True:pass





# create new indicator

# Set the best weights to the neural network
nn.set_weights(best_coefficients_all_indicators_mlp)

# Perform forward propagation using the neural network
new_indicator = nn.forward(mlp_data)

# Normalize new_indicator to range [0, 100]
min_value = np.min(new_indicator)
max_value = np.max(new_indicator)
new_indicator = ((new_indicator - min_value) / (max_value - min_value)) * 100
new_indicator = new_indicator.reshape(-1)  


# run strategy
prices, indicator_values, profits, cash, bitcoin, total = strategy(indcator=new_indicator[start_idx:].copy(),
        prices=combined_dataframe.price[start_idx:].copy().values)





plot("MLP All Indicators", prices, indicator_values, profits, cash, bitcoin, total, Dates[start_idx:])





# Manually segment your data
downtrend_start_idx = start_idx
downtrend_end_idx = downtrend_end_idx

sideway_start_idx = sideway_start_idx
sideway_end_idx = sideway_end_idx

uptrend_start_idx =  uptrend_start_idx
uptrend_end_idx =  len(new_indicator)

# Test strategy on each segment
downtrend_prices, downtrend_indicator_values, downtrend_profits, downtrend_cash, downtrend_bitcoin, downtrend_total = strategy(
    indcator=new_indicator[downtrend_start_idx:downtrend_end_idx].copy(),
    prices=combined_dataframe.price[downtrend_start_idx:downtrend_end_idx].copy().values)

sideway_prices, sideway_indicator_values, sideway_profits, sideway_cash, sideway_bitcoin, sideway_total = strategy(
    indcator=new_indicator[sideway_start_idx:sideway_end_idx].copy(),
    prices=combined_dataframe.price[sideway_start_idx:sideway_end_idx].copy().values)

uptrend_prices, uptrend_indicator_values, uptrend_profits, uptrend_cash, uptrend_bitcoin, uptrend_total = strategy(
    indcator=new_indicator[uptrend_start_idx:uptrend_end_idx].copy(),
    prices=combined_dataframe.price[uptrend_start_idx:uptrend_end_idx].copy().values)

# Collect dates for each segment
downtrend_dates = Dates[downtrend_start_idx:downtrend_end_idx]

sideway_dates = Dates[sideway_start_idx:sideway_end_idx]

uptrend_dates = Dates[uptrend_start_idx:uptrend_end_idx]

# Create tuples for each segment
downtrend_data = (downtrend_prices, downtrend_indicator_values, downtrend_profits, downtrend_cash, downtrend_bitcoin, downtrend_total, downtrend_dates)

sideway_data = (sideway_prices, sideway_indicator_values, sideway_profits, sideway_cash, sideway_bitcoin, sideway_total, sideway_dates)

uptrend_data = (uptrend_prices, uptrend_indicator_values, uptrend_profits, uptrend_cash, uptrend_bitcoin, uptrend_total, uptrend_dates)

# Plot the segments
subplot("MLP All Indicator", downtrend_data, sideway_data, uptrend_data)






# Create the initial population
num_individuals = 10
num_genes = len(all_indicators.columns)
#initial_population = np.random.rand(num_individuals, num_genes)  # Random initialization 

# Configure Genetic Algorithm parameters
num_generations = 100
mutation_rate = 0.01

# Other Parameters
WINDOW_SIZE = 260
new_indicator_values = list()
num_processors = 4
parallel_type = None

# Create a list of arguments for each window
args_list = [(i, all_indicators, combined_dataframe, num_individuals, num_genes, num_generations, mutation_rate, np.random.rand(num_individuals, num_genes), parallel_type, num_processors, WINDOW_SIZE)
                for i in range(len(all_indicators) - WINDOW_SIZE)]

# Use multiprocessing Pool to parallelize the window processing
with Pool(cpu_count()) as pool:
        results = list(tqdm(pool.imap(process_window, args_list), total=len(args_list)))
    

# Sort results based on the index
results.sort(key=lambda x: x[0])

# Flatten the sorted list of results
for _, result in results:
    new_indicator_values.extend(result)





# run strategy
prices, indicator_values, profits, cash, bitcoin, total = strategy(indcator=new_indicator_values[start_idx:].copy(),
        prices=combined_dataframe.price[start_idx:].copy().values)


plot("Sliding Window", prices, indicator_values, profits, cash, bitcoin, total, Dates[start_idx:])


# Manually segment your data
downtrend_start_idx = start_idx
downtrend_end_idx = downtrend_end_idx

sideway_start_idx = sideway_start_idx
sideway_end_idx = sideway_end_idx

uptrend_start_idx =  uptrend_start_idx
uptrend_end_idx =  len(new_indicator_values)

# Test strategy on each segment
downtrend_prices, downtrend_indicator_values, downtrend_profits, downtrend_cash, downtrend_bitcoin, downtrend_total = strategy(
    indcator=new_indicator_values[downtrend_start_idx:downtrend_end_idx].copy(),
    prices=combined_dataframe.price[downtrend_start_idx:downtrend_end_idx].copy().values)

sideway_prices, sideway_indicator_values, sideway_profits, sideway_cash, sideway_bitcoin, sideway_total = strategy(
    indcator=new_indicator_values[sideway_start_idx:sideway_end_idx].copy(),
    prices=combined_dataframe.price[sideway_start_idx:sideway_end_idx].copy().values)

uptrend_prices, uptrend_indicator_values, uptrend_profits, uptrend_cash, uptrend_bitcoin, uptrend_total = strategy(
    indcator=new_indicator_values[uptrend_start_idx:uptrend_end_idx].copy(),
    prices=combined_dataframe.price[uptrend_start_idx:uptrend_end_idx].copy().values)

# Collect dates for each segment
downtrend_dates = Dates[downtrend_start_idx:downtrend_end_idx]

sideway_dates = Dates[sideway_start_idx:sideway_end_idx]

uptrend_dates = Dates[uptrend_start_idx:uptrend_end_idx]

# Create tuples for each segment
downtrend_data = (downtrend_prices, downtrend_indicator_values, downtrend_profits, downtrend_cash, downtrend_bitcoin, downtrend_total, downtrend_dates)

sideway_data = (sideway_prices, sideway_indicator_values, sideway_profits, sideway_cash, sideway_bitcoin, sideway_total, sideway_dates)

uptrend_data = (uptrend_prices, uptrend_indicator_values, uptrend_profits, uptrend_cash, uptrend_bitcoin, uptrend_total, uptrend_dates)

# Plot the segments
subplot("Linear Sliding Window", downtrend_data, sideway_data, uptrend_data)






!conda env export > environment.yml



